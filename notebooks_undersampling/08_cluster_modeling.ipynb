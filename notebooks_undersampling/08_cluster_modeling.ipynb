{
 "cells": [
  {
   "cell_type": "code",
   "execution_count": 52,
   "id": "c5745714-d9b9-40d4-b851-e2b993af5a70",
   "metadata": {},
   "outputs": [],
   "source": [
    "# Imports\n",
    "import os\n",
    "import pandas as pd\n",
    "import numpy as np\n",
    "import matplotlib.pyplot as plt\n",
    "from sklearn import preprocessing\n",
    "from sklearn.model_selection import train_test_split\n",
    "from sklearn.metrics import classification_report\n",
    "import seaborn as sns\n",
    "import matplotlib.pyplot as plt \n",
    "import warnings\n",
    "warnings.filterwarnings('ignore')"
   ]
  },
  {
   "cell_type": "code",
   "execution_count": 53,
   "id": "15db6933-2c01-456d-b378-ba3581083c4c",
   "metadata": {},
   "outputs": [],
   "source": [
    "from scipy.cluster.hierarchy import dendrogram, linkage"
   ]
  },
  {
   "cell_type": "markdown",
   "id": "4566b98a-afde-4492-89eb-2655fc27c3f1",
   "metadata": {},
   "source": [
    "# Cluster Modeling\n",
    "\n",
    "In this step we'll load the cleaned data set and then perform the modeling steps."
   ]
  },
  {
   "cell_type": "code",
   "execution_count": 54,
   "id": "0f6cd4d8-86e1-438b-86be-923421dffb41",
   "metadata": {},
   "outputs": [],
   "source": [
    "# Load cleaned and preprocessed data\n",
    "X_train = pd.read_csv(\"data/X_train.csv\", index_col=0).astype(float)\n",
    "y_train = pd.read_csv(\"data/y_train.csv\", index_col=0).astype(int)\n",
    "y_train = pd.Series(y_train.values.ravel())\n",
    "y_train.index = X_train.index\n",
    "y_train = pd.read_csv(\"data/y_train_binary.csv\", index_col=0).astype(int)\n",
    "y_train = pd.Series(y_train.values.ravel())\n",
    "y_train.index = X_train.index\n",
    "X_test = pd.read_csv(\"data/X_test.csv\", index_col=0).astype(float)\n",
    "y_test = pd.read_csv(\"data/y_test.csv\", index_col=0).astype(int)\n",
    "y_test = pd.Series(y_test.values.ravel())\n",
    "y_test.index = X_test.index\n",
    "y_test = pd.read_csv(\"data/y_test_binary.csv\", index_col=0).astype(int)\n",
    "y_test = pd.Series(y_test.values.ravel())\n",
    "y_test.index = X_test.index"
   ]
  },
  {
   "cell_type": "code",
   "execution_count": 55,
   "id": "8f87155d-533d-4d7f-ae2b-0216f632b151",
   "metadata": {},
   "outputs": [
    {
     "name": "stdout",
     "output_type": "stream",
     "text": [
      "(229781, 34) (229781,)\n"
     ]
    }
   ],
   "source": [
    "print(X.shape, y.shape)"
   ]
  },
  {
   "cell_type": "code",
   "execution_count": 56,
   "id": "b44181be-6569-40d6-852c-b2ff1b9357de",
   "metadata": {},
   "outputs": [],
   "source": [
    "from imblearn.under_sampling import RandomUnderSampler\n",
    "rus = RandomUnderSampler(random_state=0)\n",
    "X_resampled, y_resampled = rus.fit_resample(X_train, y_train)"
   ]
  },
  {
   "cell_type": "code",
   "execution_count": 57,
   "id": "6d33c88d-1674-484a-8181-68c54c236cca",
   "metadata": {},
   "outputs": [
    {
     "name": "stdout",
     "output_type": "stream",
     "text": [
      "(8000, 28) (8000,)\n"
     ]
    }
   ],
   "source": [
    "print(X_resampled.shape, y_resampled.shape)"
   ]
  },
  {
   "cell_type": "code",
   "execution_count": 58,
   "id": "de20d796-6af3-4838-a54d-645242e37d24",
   "metadata": {},
   "outputs": [
    {
     "data": {
      "image/png": "[encoded data removed]",
      "text/plain": [
       "<Figure size 640x480 with 1 Axes>"
      ]
     },
     "metadata": {},
     "output_type": "display_data"
    }
   ],
   "source": [
    "from sklearn.cluster import KMeans\n",
    "wcss = []\n",
    "for i in range (1, 11):\n",
    "    kmeans = KMeans(n_clusters = i, init = \"k-means++\", max_iter = 300, n_init = 10, random_state = 0)\n",
    "    kmeans.fit(X_resampled)\n",
    "    wcss.append(kmeans.inertia_)\n",
    "plt.plot(range(1, 11), wcss, 'bx-')\n",
    "plt.title(\"The Elbow Method\")\n",
    "plt.xlabel(\"Number of clusters\")\n",
    "plt.ylabel(\"wcss\")\n",
    "plt.show()"
   ]
  },
  {
   "cell_type": "code",
   "execution_count": 59,
   "id": "1fdc808f-f57e-445e-8c5d-dd50f5027680",
   "metadata": {},
   "outputs": [
    {
     "data": {
      "text/html": [
       "<div>\n",
       "<style scoped>\n",
       "    .dataframe tbody tr th:only-of-type {\n",
       "        vertical-align: middle;\n",
       "    }\n",
       "\n",
       "    .dataframe tbody tr th {\n",
       "        vertical-align: top;\n",
       "    }\n",
       "\n",
       "    .dataframe thead th {\n",
       "        text-align: right;\n",
       "    }\n",
       "</style>\n",
       "<table border=\"1\" class=\"dataframe\">\n",
       "  <thead>\n",
       "    <tr style=\"text-align: right;\">\n",
       "      <th></th>\n",
       "      <th>wcss</th>\n",
       "      <th>wcss_diff</th>\n",
       "    </tr>\n",
       "  </thead>\n",
       "  <tbody>\n",
       "    <tr>\n",
       "      <th>0</th>\n",
       "      <td>70762.915368</td>\n",
       "      <td>NaN</td>\n",
       "    </tr>\n",
       "    <tr>\n",
       "      <th>1</th>\n",
       "      <td>59292.919566</td>\n",
       "      <td>-11469.995802</td>\n",
       "    </tr>\n",
       "    <tr>\n",
       "      <th>2</th>\n",
       "      <td>54030.667867</td>\n",
       "      <td>-5262.251699</td>\n",
       "    </tr>\n",
       "    <tr>\n",
       "      <th>3</th>\n",
       "      <td>49662.144914</td>\n",
       "      <td>-4368.522953</td>\n",
       "    </tr>\n",
       "    <tr>\n",
       "      <th>4</th>\n",
       "      <td>46469.413055</td>\n",
       "      <td>-3192.731860</td>\n",
       "    </tr>\n",
       "    <tr>\n",
       "      <th>5</th>\n",
       "      <td>43788.824264</td>\n",
       "      <td>-2680.588791</td>\n",
       "    </tr>\n",
       "    <tr>\n",
       "      <th>6</th>\n",
       "      <td>42273.944438</td>\n",
       "      <td>-1514.879826</td>\n",
       "    </tr>\n",
       "    <tr>\n",
       "      <th>7</th>\n",
       "      <td>41262.530404</td>\n",
       "      <td>-1011.414034</td>\n",
       "    </tr>\n",
       "    <tr>\n",
       "      <th>8</th>\n",
       "      <td>40184.694928</td>\n",
       "      <td>-1077.835476</td>\n",
       "    </tr>\n",
       "    <tr>\n",
       "      <th>9</th>\n",
       "      <td>39458.337434</td>\n",
       "      <td>-726.357495</td>\n",
       "    </tr>\n",
       "  </tbody>\n",
       "</table>\n",
       "</div>"
      ],
      "text/plain": [
       "           wcss     wcss_diff\n",
       "0  70762.915368           NaN\n",
       "1  59292.919566 -11469.995802\n",
       "2  54030.667867  -5262.251699\n",
       "3  49662.144914  -4368.522953\n",
       "4  46469.413055  -3192.731860\n",
       "5  43788.824264  -2680.588791\n",
       "6  42273.944438  -1514.879826\n",
       "7  41262.530404  -1011.414034\n",
       "8  40184.694928  -1077.835476\n",
       "9  39458.337434   -726.357495"
      ]
     },
     "execution_count": 59,
     "metadata": {},
     "output_type": "execute_result"
    }
   ],
   "source": [
    "wcss = pd.DataFrame(wcss, columns = ['wcss'])\n",
    "wcss['wcss_diff'] = wcss['wcss'].diff()\n",
    "wcss"
   ]
  },
  {
   "cell_type": "code",
   "execution_count": 60,
   "id": "885d9677-0d01-4a7d-a5aa-1a5b44dd3ac4",
   "metadata": {},
   "outputs": [
    {
     "data": {
      "text/html": [
       "<div>\n",
       "<style scoped>\n",
       "    .dataframe tbody tr th:only-of-type {\n",
       "        vertical-align: middle;\n",
       "    }\n",
       "\n",
       "    .dataframe tbody tr th {\n",
       "        vertical-align: top;\n",
       "    }\n",
       "\n",
       "    .dataframe thead th {\n",
       "        text-align: right;\n",
       "    }\n",
       "</style>\n",
       "<table border=\"1\" class=\"dataframe\">\n",
       "  <thead>\n",
       "    <tr style=\"text-align: right;\">\n",
       "      <th></th>\n",
       "      <th>wcss</th>\n",
       "      <th>wcss_diff</th>\n",
       "    </tr>\n",
       "  </thead>\n",
       "  <tbody>\n",
       "    <tr>\n",
       "      <th>4</th>\n",
       "      <td>46469.413055</td>\n",
       "      <td>-3192.731860</td>\n",
       "    </tr>\n",
       "    <tr>\n",
       "      <th>5</th>\n",
       "      <td>43788.824264</td>\n",
       "      <td>-2680.588791</td>\n",
       "    </tr>\n",
       "    <tr>\n",
       "      <th>6</th>\n",
       "      <td>42273.944438</td>\n",
       "      <td>-1514.879826</td>\n",
       "    </tr>\n",
       "    <tr>\n",
       "      <th>7</th>\n",
       "      <td>41262.530404</td>\n",
       "      <td>-1011.414034</td>\n",
       "    </tr>\n",
       "    <tr>\n",
       "      <th>8</th>\n",
       "      <td>40184.694928</td>\n",
       "      <td>-1077.835476</td>\n",
       "    </tr>\n",
       "    <tr>\n",
       "      <th>9</th>\n",
       "      <td>39458.337434</td>\n",
       "      <td>-726.357495</td>\n",
       "    </tr>\n",
       "  </tbody>\n",
       "</table>\n",
       "</div>"
      ],
      "text/plain": [
       "           wcss    wcss_diff\n",
       "4  46469.413055 -3192.731860\n",
       "5  43788.824264 -2680.588791\n",
       "6  42273.944438 -1514.879826\n",
       "7  41262.530404 -1011.414034\n",
       "8  40184.694928 -1077.835476\n",
       "9  39458.337434  -726.357495"
      ]
     },
     "execution_count": 60,
     "metadata": {},
     "output_type": "execute_result"
    }
   ],
   "source": [
    "wcss[wcss['wcss_diff'] > wcss['wcss_diff'].mean()]"
   ]
  },
  {
   "cell_type": "code",
   "execution_count": 61,
   "id": "d1786410-79a6-45fe-9bc9-eb207636e295",
   "metadata": {},
   "outputs": [],
   "source": [
    "clusters = 4"
   ]
  },
  {
   "cell_type": "markdown",
   "id": "cca3ee17-3a12-4f3f-b2a1-c18b2096fd22",
   "metadata": {},
   "source": [
    "## Agglomerative Clustering(Heirachical Clustering)"
   ]
  },
  {
   "cell_type": "code",
   "execution_count": 62,
   "id": "a7346eb4-6be8-4d12-a43d-4d3a8be04849",
   "metadata": {},
   "outputs": [],
   "source": [
    "from sklearn.cluster import AgglomerativeClustering\n",
    "from scipy.cluster.hierarchy import dendrogram, linkage"
   ]
  },
  {
   "cell_type": "code",
   "execution_count": 63,
   "id": "d54514e6-8544-4e2c-acc6-e6b9d689eccc",
   "metadata": {},
   "outputs": [],
   "source": [
    "Complete = AgglomerativeClustering(metric='cosine', n_clusters=clusters, linkage='complete')\n",
    "Complete.fit(X_resampled)\n",
    "#print(Complete.labels_)\n",
    "\n",
    "N_Complete = linkage(Complete.children_, method='complete')"
   ]
  },
  {
   "cell_type": "code",
   "execution_count": null,
   "id": "1532992f-fe73-424c-a0a2-9fe3d6772fb9",
   "metadata": {},
   "outputs": [],
   "source": [
    "# Create the figure and axes for subplots\n",
    "fig, axes = plt.subplots(nrows=1, ncols=1, figsize=(18, 3))\n",
    "\n",
    "# Plot the dendrogram on subplots\n",
    "dendrogram(N_Complete, ax=axes)\n",
    "\n",
    "# Set titles and labels for subplots\n",
    "axes.set_title('Dendrogram - Complete Link')\n",
    "axes.set_xlabel('Data points')\n",
    "axes.set_ylabel('Distance')\n",
    "\n",
    "\n",
    "# Show the figure\n",
    "plt.show()"
   ]
  },
  {
   "cell_type": "code",
   "execution_count": null,
   "id": "668a1e33-f19e-4e97-8f51-2a89e957c2af",
   "metadata": {},
   "outputs": [],
   "source": [
    "from scipy.cluster.hierarchy import fcluster\n",
    "\n",
    "# Cut the linkage into clusters using a distance threshold\n",
    "distance_threshold = 10000\n",
    "cluster_labels = fcluster(N_Complete, t=distance_threshold, criterion='distance')\n",
    "unique_labels = np.unique(cluster_labels)\n",
    "print(unique_labels)\n",
    "print(cluster_labels.shape)"
   ]
  },
  {
   "cell_type": "code",
   "execution_count": null,
   "id": "bddbea46-b636-4b8e-8f62-a1ed6913c3a7",
   "metadata": {},
   "outputs": [],
   "source": [
    "from matplotlib.colors import ListedColormap\n",
    "colors = ['red', 'green', 'blue', 'orange', 'yellow']\n",
    "cmap = ListedColormap(colors)"
   ]
  },
  {
   "cell_type": "code",
   "execution_count": null,
   "id": "7a4a1384-c514-4057-bc2f-682e1e7a0969",
   "metadata": {},
   "outputs": [],
   "source": [
    "import matplotlib.pyplot as plt\n",
    "plt.scatter(X_resampled.iloc[1:,0], X_resampled.iloc[1:,1], c=cluster_labels, cmap=cmap)\n",
    "plt.xlabel('X1')\n",
    "plt.ylabel('X2')\n",
    "plt.title('Clustering with Complete Link, Cut Threshold = 10000)')\n",
    "\n",
    "legend_handles = [plt.Line2D([], [], marker='o', color=color, linestyle='None') for color in colors]\n",
    "legend_labels = colors\n",
    "\n",
    "# Create the legend\n",
    "plt.legend(legend_handles, legend_labels)\n",
    "\n",
    "plt.show()"
   ]
  },
  {
   "cell_type": "code",
   "execution_count": null,
   "id": "1b20d28b-b412-4a26-bafb-9af6a52173ae",
   "metadata": {},
   "outputs": [],
   "source": [
    "pred_final = Complete.fit_predict(X_test)"
   ]
  },
  {
   "cell_type": "code",
   "execution_count": null,
   "id": "37a6e199-26be-45ac-83d3-a92bf40a1393",
   "metadata": {},
   "outputs": [],
   "source": [
    "# Save final cluster predictions for ensemble voting\n",
    "os.makedirs(\"results\", exist_ok=True)\n",
    "np.save(\"results/y_pred_cluster.npy\", pred_final)"
   ]
  }
 ],
 "metadata": {
  "kernelspec": {
   "display_name": "Python 3 (ipykernel)",
   "language": "python",
   "name": "python3"
  },
  "language_info": {
   "codemirror_mode": {
    "name": "ipython",
    "version": 3
   },
   "file_extension": ".py",
   "mimetype": "text/x-python",
   "name": "python",
   "nbconvert_exporter": "python",
   "pygments_lexer": "ipython3",
   "version": "3.9.6"
  }
 },
 "nbformat": 4,
 "nbformat_minor": 5
}
