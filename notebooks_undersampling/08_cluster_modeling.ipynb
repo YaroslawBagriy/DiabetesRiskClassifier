{
 "cells": [
  {
   "cell_type": "code",
   "execution_count": null,
   "id": "c5745714-d9b9-40d4-b851-e2b993af5a70",
   "metadata": {},
   "outputs": [],
   "source": [
    "# Imports\n",
    "import os\n",
    "import pandas as pd\n",
    "import numpy as np\n",
    "import matplotlib.pyplot as plt\n",
    "from sklearn import preprocessing\n",
    "from sklearn.model_selection import train_test_split\n",
    "from sklearn.metrics import classification_report\n",
    "import seaborn as sns\n",
    "import matplotlib.pyplot as plt \n",
    "import warnings\n",
    "warnings.filterwarnings('ignore')"
   ]
  },
  {
   "cell_type": "code",
   "execution_count": null,
   "id": "15db6933-2c01-456d-b378-ba3581083c4c",
   "metadata": {},
   "outputs": [],
   "source": [
    "from scipy.cluster.hierarchy import dendrogram, linkage"
   ]
  },
  {
   "cell_type": "markdown",
   "id": "4566b98a-afde-4492-89eb-2655fc27c3f1",
   "metadata": {},
   "source": [
    "# Cluster Modeling\n",
    "\n",
    "In this step we'll load the cleaned data set and then perform the modeling steps."
   ]
  },
  {
   "cell_type": "code",
   "execution_count": null,
   "id": "0f6cd4d8-86e1-438b-86be-923421dffb41",
   "metadata": {},
   "outputs": [],
   "source": [
    "# Load cleaned and preprocessed data\n",
    "X_train = pd.read_csv(\"data/X_train.csv\", index_col=0).astype(float)\n",
    "y_train = pd.read_csv(\"data/y_train.csv\", index_col=0).astype(int)\n",
    "y_train = pd.Series(y_train.values.ravel())\n",
    "y_train.index = X_train.index\n",
    "y_train = pd.read_csv(\"data/y_train_binary.csv\", index_col=0).astype(int)\n",
    "y_train = pd.Series(y_train.values.ravel())\n",
    "y_train.index = X_train.index\n",
    "X_test = pd.read_csv(\"data/X_test.csv\", index_col=0).astype(float)\n",
    "y_test = pd.read_csv(\"data/y_test.csv\", index_col=0).astype(int)\n",
    "y_test = pd.Series(y_test.values.ravel())\n",
    "y_test.index = X_test.index\n",
    "y_test = pd.read_csv(\"data/y_test_binary.csv\", index_col=0).astype(int)\n",
    "y_test = pd.Series(y_test.values.ravel())\n",
    "y_test.index = X_test.index"
   ]
  },
  {
   "cell_type": "code",
   "execution_count": null,
   "id": "8f87155d-533d-4d7f-ae2b-0216f632b151",
   "metadata": {},
   "outputs": [],
   "source": [
    "print(X.shape, y.shape)"
   ]
  },
  {
   "cell_type": "code",
   "execution_count": null,
   "id": "b44181be-6569-40d6-852c-b2ff1b9357de",
   "metadata": {},
   "outputs": [],
   "source": [
    "from imblearn.under_sampling import RandomUnderSampler\n",
    "rus = RandomUnderSampler(random_state=0)\n",
    "X_resampled, y_resampled = rus.fit_resample(X_train, y_train)"
   ]
  },
  {
   "cell_type": "code",
   "execution_count": null,
   "id": "6d33c88d-1674-484a-8181-68c54c236cca",
   "metadata": {},
   "outputs": [],
   "source": [
    "print(X_resampled.shape, y_resampled.shape)"
   ]
  },
  {
   "cell_type": "code",
   "execution_count": null,
   "id": "de20d796-6af3-4838-a54d-645242e37d24",
   "metadata": {},
   "outputs": [],
   "source": [
    "from sklearn.cluster import KMeans\n",
    "wcss = []\n",
    "for i in range (1, 11):\n",
    "    kmeans = KMeans(n_clusters = i, init = \"k-means++\", max_iter = 300, n_init = 10, random_state = 0)\n",
    "    kmeans.fit(X_resampled)\n",
    "    wcss.append(kmeans.inertia_)\n",
    "plt.plot(range(1, 11), wcss, 'bx-')\n",
    "plt.title(\"The Elbow Method\")\n",
    "plt.xlabel(\"Number of clusters\")\n",
    "plt.ylabel(\"wcss\")\n",
    "plt.show()"
   ]
  },
  {
   "cell_type": "code",
   "execution_count": null,
   "id": "1fdc808f-f57e-445e-8c5d-dd50f5027680",
   "metadata": {},
   "outputs": [],
   "source": [
    "wcss = pd.DataFrame(wcss, columns = ['wcss'])\n",
    "wcss['wcss_diff'] = wcss['wcss'].diff()\n",
    "wcss"
   ]
  },
  {
   "cell_type": "code",
   "execution_count": null,
   "id": "885d9677-0d01-4a7d-a5aa-1a5b44dd3ac4",
   "metadata": {},
   "outputs": [],
   "source": [
    "wcss[wcss['wcss_diff'] > wcss['wcss_diff'].mean()]"
   ]
  },
  {
   "cell_type": "code",
   "execution_count": null,
   "id": "d1786410-79a6-45fe-9bc9-eb207636e295",
   "metadata": {},
   "outputs": [],
   "source": [
    "clusters = 4"
   ]
  },
  {
   "cell_type": "markdown",
   "id": "cca3ee17-3a12-4f3f-b2a1-c18b2096fd22",
   "metadata": {},
   "source": [
    "## Agglomerative Clustering(Heirachical Clustering)"
   ]
  },
  {
   "cell_type": "code",
   "execution_count": null,
   "id": "a7346eb4-6be8-4d12-a43d-4d3a8be04849",
   "metadata": {},
   "outputs": [],
   "source": [
    "from sklearn.cluster import AgglomerativeClustering\n",
    "from scipy.cluster.hierarchy import dendrogram, linkage"
   ]
  },
  {
   "cell_type": "code",
   "execution_count": null,
   "id": "d54514e6-8544-4e2c-acc6-e6b9d689eccc",
   "metadata": {},
   "outputs": [],
   "source": [
    "Complete = AgglomerativeClustering(metric='cosine', n_clusters=clusters, linkage='complete')\n",
    "Complete.fit(X_resampled)\n",
    "#print(Complete.labels_)\n",
    "\n",
    "N_Complete = linkage(Complete.children_, method='complete')"
   ]
  },
  {
   "cell_type": "code",
   "execution_count": null,
   "id": "1532992f-fe73-424c-a0a2-9fe3d6772fb9",
   "metadata": {},
   "outputs": [],
   "source": [
    "# Create the figure and axes for subplots\n",
    "fig, axes = plt.subplots(nrows=1, ncols=1, figsize=(18, 3))\n",
    "\n",
    "# Plot the dendrogram on subplots\n",
    "dendrogram(N_Complete, ax=axes)\n",
    "\n",
    "# Set titles and labels for subplots\n",
    "axes.set_title('Dendrogram - Complete Link')\n",
    "axes.set_xlabel('Data points')\n",
    "axes.set_ylabel('Distance')\n",
    "\n",
    "\n",
    "# Show the figure\n",
    "plt.show()"
   ]
  },
  {
   "cell_type": "code",
   "execution_count": null,
   "id": "668a1e33-f19e-4e97-8f51-2a89e957c2af",
   "metadata": {},
   "outputs": [],
   "source": [
    "from scipy.cluster.hierarchy import fcluster\n",
    "\n",
    "# Cut the linkage into clusters using a distance threshold\n",
    "distance_threshold = 10000\n",
    "cluster_labels = fcluster(N_Complete, t=distance_threshold, criterion='distance')\n",
    "unique_labels = np.unique(cluster_labels)\n",
    "print(unique_labels)\n",
    "print(cluster_labels.shape)"
   ]
  },
  {
   "cell_type": "code",
   "execution_count": null,
   "id": "bddbea46-b636-4b8e-8f62-a1ed6913c3a7",
   "metadata": {},
   "outputs": [],
   "source": [
    "from matplotlib.colors import ListedColormap\n",
    "colors = ['red', 'green', 'blue', 'orange', 'yellow']\n",
    "cmap = ListedColormap(colors)"
   ]
  },
  {
   "cell_type": "code",
   "execution_count": null,
   "id": "7a4a1384-c514-4057-bc2f-682e1e7a0969",
   "metadata": {},
   "outputs": [],
   "source": [
    "import matplotlib.pyplot as plt\n",
    "plt.scatter(X_resampled.iloc[1:,0], X_resampled.iloc[1:,1], c=cluster_labels, cmap=cmap)\n",
    "plt.xlabel('X1')\n",
    "plt.ylabel('X2')\n",
    "plt.title('Clustering with Complete Link, Cut Threshold = 10000)')\n",
    "\n",
    "legend_handles = [plt.Line2D([], [], marker='o', color=color, linestyle='None') for color in colors]\n",
    "legend_labels = colors\n",
    "\n",
    "# Create the legend\n",
    "plt.legend(legend_handles, legend_labels)\n",
    "\n",
    "plt.show()"
   ]
  },
  {
   "cell_type": "code",
   "execution_count": null,
   "id": "1b20d28b-b412-4a26-bafb-9af6a52173ae",
   "metadata": {},
   "outputs": [],
   "source": [
    "pred_final = Complete.fit_predict(X_test)"
   ]
  },
  {
   "cell_type": "code",
   "execution_count": null,
   "id": "37a6e199-26be-45ac-83d3-a92bf40a1393",
   "metadata": {},
   "outputs": [],
   "source": [
    "# Save final cluster predictions for ensemble voting\n",
    "os.makedirs(\"results\", exist_ok=True)\n",
    "np.save(\"results/y_pred_cluster.npy\", pred_final)"
   ]
  }
 ],
 "metadata": {
  "kernelspec": {
   "display_name": "Python 3 (ipykernel)",
   "language": "python",
   "name": "python3"
  },
  "language_info": {
   "codemirror_mode": {
    "name": "ipython",
    "version": 3
   },
   "file_extension": ".py",
   "mimetype": "text/x-python",
   "name": "python",
   "nbconvert_exporter": "python",
   "pygments_lexer": "ipython3",
   "version": "3.9.6"
  }
 },
 "nbformat": 4,
 "nbformat_minor": 5
}
