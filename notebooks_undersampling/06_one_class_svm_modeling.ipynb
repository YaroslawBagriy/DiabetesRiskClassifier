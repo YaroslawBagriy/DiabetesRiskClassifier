{
 "cells": [
  {
   "cell_type": "markdown",
   "id": "d6120c2f",
   "metadata": {},
   "source": [
    "# Imports"
   ]
  },
  {
   "cell_type": "code",
   "execution_count": 1,
   "id": "44466662-7676-4873-b36f-aea98e8ad10d",
   "metadata": {},
   "outputs": [],
   "source": [
    "# imports\n",
    "import os\n",
    "import pandas as pd\n",
    "import numpy as np\n",
    "from sklearn.svm import OneClassSVM\n",
    "from sklearn.metrics import classification_report"
   ]
  },
  {
   "cell_type": "markdown",
   "id": "b4ee806d",
   "metadata": {},
   "source": [
    "# Load\n",
    "This is where the prepared data is loaded in for use in training and testing of the model"
   ]
  },
  {
   "cell_type": "code",
   "execution_count": 2,
   "id": "736d535a-81e2-4678-857f-d296b7551ab7",
   "metadata": {},
   "outputs": [],
   "source": [
    "# Load cleaned and preprocessed data\n",
    "X_train = pd.read_csv(\"data/X_train.csv\", index_col=0).astype(float)\n",
    "y_train = pd.read_csv(\"data/y_train.csv\", index_col=0).astype(int)\n",
    "y_train = pd.Series(y_train.values.ravel())\n",
    "y_train.index = X_train.index\n",
    "y_train_binary = pd.read_csv(\"data/y_train_binary.csv\", index_col=0).astype(int)\n",
    "y_train_binary = pd.Series(y_train_binary.values.ravel())\n",
    "y_train_binary.index = X_train.index\n",
    "X_test = pd.read_csv(\"data/X_test.csv\", index_col=0).astype(float)\n",
    "y_test = pd.read_csv(\"data/y_test.csv\", index_col=0).astype(int)\n",
    "y_test = pd.Series(y_test.values.ravel())\n",
    "y_test.index = X_test.index\n",
    "y_test_binary = pd.read_csv(\"data/y_test_binary.csv\", index_col=0).astype(int)\n",
    "y_test_binary = pd.Series(y_test_binary.values.ravel())\n",
    "y_test_binary.index = X_test.index"
   ]
  },
  {
   "cell_type": "markdown",
   "id": "a5d548bc",
   "metadata": {},
   "source": [
    "# One Class SVM Model\n",
    "This section is where seperate Once Class SVM Models are trained and tested for the various classes and then recombined for use in the ensemble"
   ]
  },
  {
   "cell_type": "code",
   "execution_count": 3,
   "id": "2771833d-cceb-4051-8981-e16ff0aab7be",
   "metadata": {},
   "outputs": [
    {
     "name": "stdout",
     "output_type": "stream",
     "text": [
      "\n",
      "One-Class SVM Multi-Class Classification Report\n",
      "              precision    recall  f1-score   support\n",
      "\n",
      "           0       0.85      0.94      0.89     38012\n",
      "           1       0.03      0.06      0.04       926\n",
      "           2       0.47      0.12      0.20      7019\n",
      "\n",
      "    accuracy                           0.79     45957\n",
      "   macro avg       0.45      0.37      0.37     45957\n",
      "weighted avg       0.77      0.79      0.77     45957\n",
      "\n"
     ]
    }
   ],
   "source": [
    "#Model parameters\n",
    "desired_nu = 0.05\n",
    "desired_gamma = 'scale'\n",
    "\n",
    "# Train on each class separately\n",
    "mask_0 = (y_train == 0)\n",
    "X_train_0 = X_train[mask_0]\n",
    "\n",
    "mask_1 = (y_train == 1)\n",
    "X_train_1 = X_train[mask_1]\n",
    "\n",
    "mask_2 = (y_train == 2)\n",
    "X_train_2 = X_train[mask_2]\n",
    "\n",
    "# Create and fit models\n",
    "ocsvm_0 = OneClassSVM(kernel='rbf', nu=desired_nu, gamma=desired_gamma)\n",
    "ocsvm_0.fit(X_train_0)\n",
    "\n",
    "ocsvm_1 = OneClassSVM(kernel='rbf', nu=desired_nu, gamma=desired_gamma)\n",
    "ocsvm_1.fit(X_train_1)\n",
    "\n",
    "ocsvm_2 = OneClassSVM(kernel='rbf', nu=desired_nu, gamma=desired_gamma)\n",
    "ocsvm_2.fit(X_train_2)\n",
    "\n",
    "# Predict Using All Three Models\n",
    "predictions = []\n",
    "\n",
    "for idx in range(X_test.shape[0]):\n",
    "    sample = X_test.iloc[idx:idx+1]\n",
    "\n",
    "    # Compute decision function scores\n",
    "    score_0 = ocsvm_0.decision_function(sample)[0]\n",
    "    score_1 = ocsvm_1.decision_function(sample)[0]\n",
    "    score_2 = ocsvm_2.decision_function(sample)[0]\n",
    "\n",
    "    scores = [score_0, score_1, score_2]\n",
    "\n",
    "    # Predict the class with the highest score\n",
    "    predicted_class = np.argmax(scores)\n",
    "    predictions.append(predicted_class)\n",
    "\n",
    "# Convert predictions to array\n",
    "predictions = np.array(predictions)\n",
    "\n",
    "# Multi-Class One-Class SVM Classification Report\n",
    "print(\"\\nOne-Class SVM Multi-Class Classification Report\")\n",
    "print(classification_report(y_test, predictions))"
   ]
  },
  {
   "cell_type": "markdown",
   "id": "194b17cf-9435-475b-84e5-4e26f6aa6a7b",
   "metadata": {},
   "source": [
    "# Export\n",
    "This section is where the final predictions of the One Class SVM model are exported for use by the ensemble"
   ]
  },
  {
   "cell_type": "code",
   "execution_count": 4,
   "id": "83debc1e-cbf8-470e-9039-1a731195f5db",
   "metadata": {},
   "outputs": [],
   "source": [
    "# Make results directory, if it's doesn't exist\n",
    "os.makedirs(\"results\", exist_ok=True)\n",
    "# Save prediction results to be later used in the ensemble voting\n",
    "np.save(\"results/y_pred_ocsvm.npy\", predictions)\n",
    "# Save test data to be later used in the ensemble voting\n",
    "np.save(\"results/y_test.npy\", y_test.to_numpy())"
   ]
  }
 ],
 "metadata": {
  "kernelspec": {
   "display_name": "Python 3 (ipykernel)",
   "language": "python",
   "name": "python3"
  },
  "language_info": {
   "codemirror_mode": {
    "name": "ipython",
    "version": 3
   },
   "file_extension": ".py",
   "mimetype": "text/x-python",
   "name": "python",
   "nbconvert_exporter": "python",
   "pygments_lexer": "ipython3",
   "version": "3.9.6"
  }
 },
 "nbformat": 4,
 "nbformat_minor": 5
}
