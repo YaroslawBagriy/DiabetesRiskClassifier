{
 "cells": [
  {
   "cell_type": "markdown",
   "id": "0a4c0880",
   "metadata": {},
   "source": [
    "# Imports"
   ]
  },
  {
   "cell_type": "code",
   "execution_count": 1,
   "id": "4b95418a-16a3-402f-b7c4-ab439fdeb4f3",
   "metadata": {},
   "outputs": [],
   "source": [
    "# imports\n",
    "import os\n",
    "import pandas as pd\n",
    "import numpy as np\n",
    "import matplotlib.pyplot as plt\n",
    "from sklearn.svm import SVC\n",
    "from sklearn.metrics import classification_report, roc_curve, auc\n",
    "from sklearn import preprocessing"
   ]
  },
  {
   "cell_type": "markdown",
   "id": "aecec2ed",
   "metadata": {},
   "source": [
    "# Load\n",
    "This is where the prepared data is loaded in for use in training and testing of the model"
   ]
  },
  {
   "cell_type": "code",
   "execution_count": 2,
   "id": "651aefdd",
   "metadata": {},
   "outputs": [],
   "source": [
    "# Load cleaned and preprocessed data\n",
    "X_train = pd.read_csv(\"data/X_train.csv\", index_col=0).astype(float)\n",
    "y_train = pd.read_csv(\"data/y_train.csv\", index_col=0).astype(int)\n",
    "y_train = pd.Series(y_train.values.ravel())\n",
    "y_train.index = X_train.index\n",
    "y_train_binary = pd.read_csv(\"data/y_train_binary.csv\", index_col=0).astype(int)\n",
    "y_train_binary = pd.Series(y_train_binary.values.ravel())\n",
    "y_train_binary.index = X_train.index\n",
    "X_test = pd.read_csv(\"data/X_test.csv\", index_col=0).astype(float)\n",
    "y_test = pd.read_csv(\"data/y_test.csv\", index_col=0).astype(int)\n",
    "y_test = pd.Series(y_test.values.ravel())\n",
    "y_test.index = X_test.index\n",
    "y_test_binary = pd.read_csv(\"data/y_test_binary.csv\", index_col=0).astype(int)\n",
    "y_test_binary = pd.Series(y_test_binary.values.ravel())\n",
    "y_test_binary.index = X_test.index"
   ]
  },
  {
   "cell_type": "markdown",
   "id": "9988962a",
   "metadata": {},
   "source": [
    "# Two Stage SVM RBF Model\n",
    "This section is where the two stage SVM RBF model is trained and tested. First class 1 and class 2 are merged into a single class and a SVM RBF model is trained to predict class 0 against the combined class 1 and 2. A second model is then trained to predict class 1 against class 2. The output of these two models is then combined to create a prediction of all classes"
   ]
  },
  {
   "cell_type": "code",
   "execution_count": 3,
   "id": "4515caa9-a630-4eac-8174-0a5267014037",
   "metadata": {},
   "outputs": [
    {
     "name": "stdout",
     "output_type": "stream",
     "text": [
      "\n",
      "Stage 1 SVM Classification Report (0 vs 1+2):\n",
      "              precision    recall  f1-score   support\n",
      "\n",
      "           0       0.94      0.66      0.78     38012\n",
      "           1       0.33      0.81      0.47      7945\n",
      "\n",
      "    accuracy                           0.69     45957\n",
      "   macro avg       0.64      0.73      0.62     45957\n",
      "weighted avg       0.84      0.69      0.72     45957\n",
      "\n",
      "\n",
      "\n",
      "Stage 2 SVM Classification Report (1 vs 2):\n",
      "              precision    recall  f1-score   support\n",
      "\n",
      "           1       0.16      0.33      0.21       653\n",
      "           2       0.91      0.80      0.85      5752\n",
      "\n",
      "    accuracy                           0.75      6405\n",
      "   macro avg       0.54      0.56      0.53      6405\n",
      "weighted avg       0.84      0.75      0.79      6405\n",
      "\n",
      "\n",
      "Final SVM Classification Report:\n",
      "              precision    recall  f1-score   support\n",
      "\n",
      "           0       0.94      0.66      0.78     38012\n",
      "           1       0.02      0.23      0.03       926\n",
      "           2       0.91      0.66      0.76      7019\n",
      "\n",
      "    accuracy                           0.65     45957\n",
      "   macro avg       0.62      0.52      0.52     45957\n",
      "weighted avg       0.92      0.65      0.76     45957\n",
      "\n"
     ]
    }
   ],
   "source": [
    "#Model parameters\n",
    "desired_c = 1\n",
    "desired_gamma = 0.01\n",
    "\n",
    "# Stage 1: SVM RBF - 0 vs (1+2)\n",
    "svm_stage1 = SVC(kernel='rbf', gamma=desired_gamma, C=desired_c, probability=True, class_weight='balanced')\n",
    "svm_stage1.fit(X_train, y_train_binary)\n",
    "\n",
    "y_pred_binary = svm_stage1.predict(X_test)\n",
    "y_prob_binary = svm_stage1.predict_proba(X_test)\n",
    "\n",
    "print(\"\\nStage 1 SVM Classification Report (0 vs 1+2):\")\n",
    "print(classification_report(y_test_binary, y_pred_binary))\n",
    "\n",
    "# Stage 2: SVM RBF - 1 vs 2\n",
    "# Get original test labels with 0/1/2\n",
    "y_test_full = y_test.loc[y_test_binary.index]\n",
    "\n",
    "# Find samples predicted as diabetic\n",
    "indices_pred_diabetes = np.where(y_pred_binary == 1)[0]\n",
    "X_test_diabetes = X_test.iloc[indices_pred_diabetes]\n",
    "y_test_diabetes = y_test_full.iloc[indices_pred_diabetes]\n",
    "\n",
    "# Keep only class 1 and 2\n",
    "# Pull records where y_test_diabetes is class 1 or class 2, along with their indexes\n",
    "test_diabetes = y_test_diabetes.loc[(y_test_diabetes == 1) | (y_test_diabetes == 2)].index\n",
    "X_test_diabetes = X_test_diabetes.loc[test_diabetes]\n",
    "y_test_diabetes = y_test_diabetes.loc[test_diabetes]\n",
    "\n",
    "# Prepare second-stage training data\n",
    "# Get the indexes where y_train_binary == 1\n",
    "diabetes_indexes = y_train_binary.loc[y_train_binary == 1].index\n",
    "\n",
    "# Use these indexes to select records from X_train_diabetes and y_train_diabetes\n",
    "X_train_diabetes = X_train.loc[diabetes_indexes]\n",
    "y_train_diabetes = y_train.loc[diabetes_indexes]\n",
    "\n",
    "# Train second SVM\n",
    "svm_stage2 = SVC(kernel='rbf', gamma=desired_gamma, C=desired_c, probability=True, class_weight='balanced')\n",
    "svm_stage2.fit(X_train_diabetes, y_train_diabetes)\n",
    "\n",
    "y_pred_second_stage = svm_stage2.predict(X_test_diabetes)\n",
    "y_prob_second_stage = svm_stage2.predict_proba(X_test_diabetes)\n",
    "\n",
    "print(\"\\n\\nStage 2 SVM Classification Report (1 vs 2):\")\n",
    "print(classification_report(y_test_diabetes, y_pred_second_stage))\n",
    "\n",
    "# Reconstruct final prediction array\n",
    "y_pred_final = y_pred_binary.copy()\n",
    "pred_diabetes_indices = np.where(y_pred_binary == 1)[0]\n",
    "\n",
    "# Reindex and assign\n",
    "y_test_full_diabetes = y_test_full.iloc[pred_diabetes_indices]\n",
    "valid_indices = pred_diabetes_indices[(y_test_full_diabetes == 1) | (y_test_full_diabetes == 2)]\n",
    "\n",
    "for i, idx in enumerate(valid_indices):\n",
    "    y_pred_final[idx] = y_pred_second_stage[i]\n",
    "\n",
    "print(\"\\nFinal SVM Classification Report:\")\n",
    "print(classification_report(y_test_full, y_pred_final))"
   ]
  },
  {
   "cell_type": "markdown",
   "id": "fc620695",
   "metadata": {},
   "source": [
    "# Export\n",
    "This section is where the final predictions of the two stage SVM RBF model are exported for use by the ensemble"
   ]
  },
  {
   "cell_type": "code",
   "execution_count": 4,
   "id": "a88274b6-9c86-4f72-8f99-7b0d8100cb16",
   "metadata": {},
   "outputs": [],
   "source": [
    "# Save final predictions\n",
    "# --------------------------------------------\n",
    "import os\n",
    "os.makedirs(\"results\", exist_ok=True)\n",
    "np.save(\"results/y_pred_svm.npy\", y_pred_final)"
   ]
  }
 ],
 "metadata": {
  "kernelspec": {
   "display_name": "Python 3 (ipykernel)",
   "language": "python",
   "name": "python3"
  },
  "language_info": {
   "codemirror_mode": {
    "name": "ipython",
    "version": 3
   },
   "file_extension": ".py",
   "mimetype": "text/x-python",
   "name": "python",
   "nbconvert_exporter": "python",
   "pygments_lexer": "ipython3",
   "version": "3.11.5"
  }
 },
 "nbformat": 4,
 "nbformat_minor": 5
}
