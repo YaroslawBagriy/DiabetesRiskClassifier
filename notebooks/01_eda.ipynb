{
 "cells": [
  {
   "cell_type": "code",
   "execution_count": 1,
   "id": "86b0fd04-c32c-4dd5-be5e-3ebc111af4cb",
   "metadata": {},
   "outputs": [],
   "source": [
    "# Imports\n"
   ]
  },
  {
   "cell_type": "markdown",
   "id": "94633c04-260b-420c-a707-195a8c211ce9",
   "metadata": {},
   "source": [
    "# Data Preprocessing\n",
    "\n",
    "According to the Kaggle project information, this dataset has already been cleaned, however we can still do some check to make sure it is actually clean."
   ]
  },
  {
   "cell_type": "code",
   "execution_count": null,
   "id": "0d46fea3-63fb-449a-96c8-a3610e689aa0",
   "metadata": {},
   "outputs": [],
   "source": []
  }
 ],
 "metadata": {
  "kernelspec": {
   "display_name": "Python 3 (ipykernel)",
   "language": "python",
   "name": "python3"
  },
  "language_info": {
   "codemirror_mode": {
    "name": "ipython",
    "version": 3
   },
   "file_extension": ".py",
   "mimetype": "text/x-python",
   "name": "python",
   "nbconvert_exporter": "python",
   "pygments_lexer": "ipython3",
   "version": "3.9.6"
  }
 },
 "nbformat": 4,
 "nbformat_minor": 5
}
