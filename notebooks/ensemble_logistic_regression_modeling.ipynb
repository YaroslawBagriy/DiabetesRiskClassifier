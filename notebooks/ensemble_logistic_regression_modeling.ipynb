{
 "cells": [
  {
   "cell_type": "markdown",
   "id": "ac53d707",
   "metadata": {},
   "source": [
    "# Imports"
   ]
  },
  {
   "cell_type": "code",
   "execution_count": 8,
   "id": "c5745714-d9b9-40d4-b851-e2b993af5a70",
   "metadata": {},
   "outputs": [],
   "source": [
    "# Imports\n",
    "import os\n",
    "import pandas as pd\n",
    "import numpy as np\n",
    "from sklearn.linear_model import LogisticRegressionCV\n",
    "from sklearn.metrics import classification_report"
   ]
  },
  {
   "cell_type": "markdown",
   "id": "4d3d4c8d",
   "metadata": {},
   "source": [
    "# Load\n",
    "This is where the prepared data is loaded in for use in training and testing of the model"
   ]
  },
  {
   "cell_type": "code",
   "execution_count": 9,
   "id": "2e517151",
   "metadata": {},
   "outputs": [],
   "source": [
    "# Load cleaned and preprocessed data\n",
    "X_train = pd.read_csv(\"data/X_train.csv\", index_col=0).astype(float)\n",
    "y_train = pd.read_csv(\"data/y_train.csv\", index_col=0).astype(int)\n",
    "y_train = pd.Series(y_train.values.ravel())\n",
    "y_train.index = X_train.index\n",
    "y_train_binary = pd.read_csv(\"data/y_train_binary.csv\", index_col=0).astype(int)\n",
    "y_train_binary = pd.Series(y_train_binary.values.ravel())\n",
    "y_train_binary.index = X_train.index\n",
    "X_test = pd.read_csv(\"data/X_test.csv\", index_col=0).astype(float)\n",
    "y_test = pd.read_csv(\"data/y_test.csv\", index_col=0).astype(int)\n",
    "y_test = pd.Series(y_test.values.ravel())\n",
    "y_test.index = X_test.index\n",
    "y_test_binary = pd.read_csv(\"data/y_test_binary.csv\", index_col=0).astype(int)\n",
    "y_test_binary = pd.Series(y_test_binary.values.ravel())\n",
    "y_test_binary.index = X_test.index"
   ]
  },
  {
   "cell_type": "markdown",
   "id": "17688858",
   "metadata": {},
   "source": [
    "# Two Stage Logistic Regression with Cross Validation Model\n",
    "This section is where the two stage logistic regression cv model is trained and tested. First class 1 and class 2 are merged into a single class and a logistic regression cv model is trained to predict class 0 against the combined class 1 and 2. A second model is then trained to predict class 1 against class 2. The output of these two models is then combined to create a prediction of all classes"
   ]
  },
  {
   "cell_type": "code",
   "execution_count": 10,
   "id": "0e15bc15-4a9b-4e8e-853c-b005b466a2e5",
   "metadata": {},
   "outputs": [
    {
     "name": "stdout",
     "output_type": "stream",
     "text": [
      "\n",
      "First Stage Classification Report (class 0 vs class 1+2):\n",
      "              precision    recall  f1-score   support\n",
      "\n",
      "           0       0.94      0.69      0.79     38012\n",
      "           1       0.34      0.78      0.47      7945\n",
      "\n",
      "    accuracy                           0.70     45957\n",
      "   macro avg       0.64      0.73      0.63     45957\n",
      "weighted avg       0.83      0.70      0.74     45957\n",
      "\n",
      "\n",
      "Second Stage Classification Report (class 1 vs class 2):\n",
      "              precision    recall  f1-score   support\n",
      "\n",
      "           1       0.15      0.39      0.22       622\n",
      "           2       0.92      0.75      0.83      5550\n",
      "\n",
      "    accuracy                           0.71      6172\n",
      "   macro avg       0.53      0.57      0.52      6172\n",
      "weighted avg       0.84      0.71      0.76      6172\n",
      "\n",
      "\n",
      "Final SVM Classification Report:\n",
      "              precision    recall  f1-score   support\n",
      "\n",
      "           0       0.94      0.69      0.79     38012\n",
      "           1       0.02      0.26      0.03       926\n",
      "           2       0.92      0.59      0.72      7019\n",
      "\n",
      "    accuracy                           0.66     45957\n",
      "   macro avg       0.62      0.51      0.52     45957\n",
      "weighted avg       0.91      0.66      0.77     45957\n",
      "\n"
     ]
    }
   ],
   "source": [
    "#Model parameters\n",
    "desired_cs = 10\n",
    "desired_cv = 10\n",
    "\n",
    "# Train first Model: 0 vs (1+2)\n",
    "first_model = LogisticRegressionCV(\n",
    "    Cs=desired_cs,\n",
    "    cv=desired_cv,\n",
    "    solver='lbfgs',\n",
    "    max_iter=1000,\n",
    "    class_weight='balanced'\n",
    ")\n",
    "first_model.fit(X_train, y_train_binary)\n",
    "\n",
    "\n",
    "# Predict first stage\n",
    "y_pred_binary = first_model.predict(X_test)\n",
    "\n",
    "print(\"\\nFirst Stage Classification Report (class 0 vs class 1+2):\")\n",
    "print(classification_report(y_test_binary, y_pred_binary))\n",
    "\n",
    "# Stage 2: 1 vs 2\n",
    "# Get original test labels with 0/1/2\n",
    "y_test_full = y_test.loc[y_test_binary.index]\n",
    "\n",
    "# Find samples predicted as diabetic\n",
    "indices_pred_diabetes = np.where(y_pred_binary == 1)[0]\n",
    "X_test_diabetes = X_test.iloc[indices_pred_diabetes]\n",
    "y_test_diabetes = y_test_full.iloc[indices_pred_diabetes]\n",
    "\n",
    "# Keep only class 1 and 2\n",
    "# Pull records where y_test_diabetes is class 1 or class 2, along with their indexes\n",
    "test_diabetes = y_test_diabetes.loc[(y_test_diabetes == 1) | (y_test_diabetes == 2)].index\n",
    "X_test_diabetes = X_test_diabetes.loc[test_diabetes]\n",
    "y_test_diabetes = y_test_diabetes.loc[test_diabetes]\n",
    "\n",
    "# Prepare second-stage training data\n",
    "# Get the indexes where y_train_binary == 1\n",
    "diabetes_indexes = y_train_binary.loc[y_train_binary == 1].index\n",
    "\n",
    "# Use these indexes to select records from X_train_diabetes and y_train_diabetes\n",
    "X_train_diabetes = X_train.loc[diabetes_indexes]\n",
    "y_train_diabetes = y_train.loc[diabetes_indexes]\n",
    "\n",
    "second_model = LogisticRegressionCV(\n",
    "    Cs=desired_cs,\n",
    "    cv=desired_cv,\n",
    "    solver='lbfgs',\n",
    "    max_iter=1000,\n",
    "    class_weight='balanced'\n",
    ")\n",
    "second_model.fit(X_train_diabetes, y_train_diabetes)\n",
    "\n",
    "# Predict on the subset\n",
    "y_pred_second_stage = second_model.predict(X_test_diabetes)\n",
    "\n",
    "print(\"\\nSecond Stage Classification Report (class 1 vs class 2):\")\n",
    "print(classification_report(y_test_diabetes, y_pred_second_stage))\n",
    "\n",
    "# Reconstruct final prediction array\n",
    "y_pred_final = y_pred_binary.copy()\n",
    "pred_diabetes_indices = np.where(y_pred_binary == 1)[0]\n",
    "\n",
    "# Reindex and assign\n",
    "y_test_full_diabetes = y_test_full.iloc[pred_diabetes_indices]\n",
    "valid_indices = pred_diabetes_indices[(y_test_full_diabetes == 1) | (y_test_full_diabetes == 2)]\n",
    "\n",
    "for i, idx in enumerate(valid_indices):\n",
    "    y_pred_final[idx] = y_pred_second_stage[i]\n",
    "\n",
    "print(\"\\nFinal SVM Classification Report:\")\n",
    "print(classification_report(y_test_full, y_pred_final))"
   ]
  },
  {
   "cell_type": "markdown",
   "id": "3106bd7b-8b43-4be6-a475-96e42c24c2e7",
   "metadata": {},
   "source": [
    "# Export\n",
    "This section is where the final predictions of the two stage logistic regression cv model are exported for use by the ensemble"
   ]
  },
  {
   "cell_type": "code",
   "execution_count": 11,
   "id": "91d07fd1-8da1-4536-9322-298dbe63d9d6",
   "metadata": {},
   "outputs": [],
   "source": [
    "# Save test data to be later used in the ensemble voting\n",
    "os.makedirs(\"results\", exist_ok=True)\n",
    "np.save(\"results/y_pred_lr.npy\", y_pred_final)"
   ]
  }
 ],
 "metadata": {
  "kernelspec": {
   "display_name": "Python 3 (ipykernel)",
   "language": "python",
   "name": "python3"
  },
  "language_info": {
   "codemirror_mode": {
    "name": "ipython",
    "version": 3
   },
   "file_extension": ".py",
   "mimetype": "text/x-python",
   "name": "python",
   "nbconvert_exporter": "python",
   "pygments_lexer": "ipython3",
   "version": "3.11.5"
  }
 },
 "nbformat": 4,
 "nbformat_minor": 5
}
