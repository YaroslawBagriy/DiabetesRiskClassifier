{
 "cells": [
  {
   "cell_type": "code",
   "execution_count": 8,
   "id": "c5745714-d9b9-40d4-b851-e2b993af5a70",
   "metadata": {},
   "outputs": [],
   "source": [
    "# Imports\n",
    "import pandas as pd"
   ]
  },
  {
   "cell_type": "markdown",
   "id": "4566b98a-afde-4492-89eb-2655fc27c3f1",
   "metadata": {},
   "source": [
    "# Modeling\n",
    "\n",
    "In this step we'll load the cleaned data set and then perform the modeling steps."
   ]
  },
  {
   "cell_type": "code",
   "execution_count": 9,
   "id": "7545fed2-e965-4273-a941-edccb80cedce",
   "metadata": {},
   "outputs": [],
   "source": [
    "# Load cleaned data from eda step\n",
    "file_path = \"../data/cleaned_diabetes_health_indicators_dataset.csv\"\n",
    "df = pd.read_csv(file_path)\n"
   ]
  },
  {
   "cell_type": "code",
   "execution_count": null,
   "id": "85f1e09c-c76b-4c07-9aba-3c393986cb84",
   "metadata": {},
   "outputs": [],
   "source": []
  }
 ],
 "metadata": {
  "kernelspec": {
   "display_name": "Python 3 (ipykernel)",
   "language": "python",
   "name": "python3"
  },
  "language_info": {
   "codemirror_mode": {
    "name": "ipython",
    "version": 3
   },
   "file_extension": ".py",
   "mimetype": "text/x-python",
   "name": "python",
   "nbconvert_exporter": "python",
   "pygments_lexer": "ipython3",
   "version": "3.9.6"
  }
 },
 "nbformat": 4,
 "nbformat_minor": 5
}
