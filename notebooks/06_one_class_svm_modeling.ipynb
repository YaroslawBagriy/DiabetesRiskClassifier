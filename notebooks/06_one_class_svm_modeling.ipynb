{
 "cells": [
  {
   "cell_type": "code",
   "execution_count": 1,
   "id": "44466662-7676-4873-b36f-aea98e8ad10d",
   "metadata": {},
   "outputs": [],
   "source": [
    "# imports\n",
    "import os\n",
    "import pandas as pd\n",
    "import numpy as np\n",
    "from sklearn import preprocessing\n",
    "from sklearn.svm import OneClassSVM\n",
    "from sklearn.metrics import classification_report\n",
    "from sklearn.model_selection import train_test_split"
   ]
  },
  {
   "cell_type": "code",
   "execution_count": 2,
   "id": "adfd97c1-19d5-4d0c-90fc-c5f6c8717656",
   "metadata": {},
   "outputs": [],
   "source": [
    "# Load cleaned data from eda step\n",
    "file_path = \"../data/cleaned_diabetes_health_indicators_dataset.csv\"\n",
    "df = pd.read_csv(file_path)\n",
    "\n",
    "predictors_to_use = [\"BMI\", \"Age\", \"Income\", \"HighBP\", \"HighChol\", \"CholCheck\", \"Smoker\", \"Stroke\",\n",
    "                     \"HeartDiseaseorAttack\", \"PhysActivity\", \"Fruits\", \"Veggies\", \"HvyAlcoholConsump\",\n",
    "                     \"AnyHealthcare\", \"NoDocbcCost\", \"GenHlth\", \"DiffWalk\", \"Sex\", \"Education\",\n",
    "                     \"MentHlth\", \"PhysHlth\", \"Diabetes_012\"]\n",
    "\n",
    "df = df[predictors_to_use].dropna()"
   ]
  },
  {
   "cell_type": "code",
   "execution_count": 3,
   "id": "736d535a-81e2-4678-857f-d296b7551ab7",
   "metadata": {},
   "outputs": [],
   "source": [
    "# Standardize Data\n",
    "numerical_predictor_columns = [\"BMI\", \"Age\", \"Income\"]\n",
    "\n",
    "# Find Z-score of Numerical Predictors\n",
    "Z_train = preprocessing.scale(df[numerical_predictor_columns])\n",
    "Z_train = pd.DataFrame(Z_train, columns=numerical_predictor_columns)\n",
    "\n",
    "# Create dummy vars\n",
    "dummy_HighBP = pd.get_dummies(df[\"HighBP\"], drop_first=True)\n",
    "dummy_HighChol = pd.get_dummies(df[\"HighChol\"], drop_first=True)\n",
    "dummy_CholCheck = pd.get_dummies(df[\"CholCheck\"], drop_first=True)\n",
    "dummy_Smoker = pd.get_dummies(df[\"Smoker\"] , drop_first=True)\n",
    "dummy_Stroke = pd.get_dummies(df[\"Stroke\"] , drop_first=True)\n",
    "dummy_HeartDiseaseorAttack = pd.get_dummies(df[\"HeartDiseaseorAttack\"] , drop_first=True)\n",
    "dummy_PhysActivity = pd.get_dummies(df[\"PhysActivity\"] , drop_first=True)\n",
    "dummy_Fruits = pd.get_dummies(df[\"Fruits\"] , drop_first=True)\n",
    "dummy_Veggies = pd.get_dummies(df[\"Veggies\"] , drop_first=True)\n",
    "dummy_HvyAlcoholConsump = pd.get_dummies(df[\"HvyAlcoholConsump\"] , drop_first=True)\n",
    "dummy_AnyHealthcare = pd.get_dummies(df[\"AnyHealthcare\"] , drop_first=True)\n",
    "dummy_NoDocbcCost = pd.get_dummies(df[\"NoDocbcCost\"] , drop_first=True)\n",
    "dummy_GenHlth = pd.get_dummies(df[\"GenHlth\"] , drop_first=True)\n",
    "dummy_DiffWalk = pd.get_dummies(df[\"DiffWalk\"] , drop_first=True)\n",
    "dummy_Sex = pd.get_dummies(df[\"Sex\"] , drop_first=True)\n",
    "dummy_Education = pd.get_dummies(df[\"Education\"] , drop_first=True)\n",
    "dummy_MentHlth = pd.get_dummies(df[\"MentHlth\"] , drop_first=True)\n",
    "dummy_PhysHlth = pd.get_dummies(df[\"PhysHlth\"] , drop_first=True)\n",
    "\n",
    "# Concatenate the standardized numerical features with the dummy vars\n",
    "X = pd.concat([Z_train, dummy_HighBP, dummy_HighChol, dummy_CholCheck, dummy_Smoker, dummy_Stroke, dummy_HeartDiseaseorAttack,\n",
    "                     dummy_PhysActivity, dummy_Fruits, dummy_Veggies, dummy_HvyAlcoholConsump, dummy_AnyHealthcare, dummy_NoDocbcCost,\n",
    "                    dummy_GenHlth, dummy_DiffWalk, dummy_Sex, dummy_Education], axis=1)\n",
    "X.columns = X.columns.astype(str)\n",
    "y = df[\"Diabetes_012\"]\n",
    "\n",
    "# Split data into training and testing sets\n",
    "X_train, X_test, y_train, y_test = train_test_split(X, y, test_size=0.2, random_state=42)"
   ]
  },
  {
   "cell_type": "code",
   "execution_count": 4,
   "id": "2771833d-cceb-4051-8981-e16ff0aab7be",
   "metadata": {},
   "outputs": [
    {
     "name": "stdout",
     "output_type": "stream",
     "text": [
      "\n",
      "One-Class SVM Multi-Class Classification Report\n",
      "              precision    recall  f1-score   support\n",
      "\n",
      "         0.0       0.84      0.95      0.89     38116\n",
      "         1.0       0.02      0.04      0.03       906\n",
      "         2.0       0.47      0.07      0.11      6935\n",
      "\n",
      "    accuracy                           0.80     45957\n",
      "   macro avg       0.44      0.35      0.34     45957\n",
      "weighted avg       0.76      0.80      0.76     45957\n",
      "\n"
     ]
    }
   ],
   "source": [
    "# Train on each class separately\n",
    "mask_0 = (y_train == 0)\n",
    "X_train_0 = X_train[mask_0]\n",
    "\n",
    "mask_1 = (y_train == 1)\n",
    "X_train_1 = X_train[mask_1]\n",
    "\n",
    "mask_2 = (y_train == 2)\n",
    "X_train_2 = X_train[mask_2]\n",
    "\n",
    "# Create and fit models\n",
    "ocsvm_0 = OneClassSVM(kernel='rbf', nu=0.05, gamma='scale')\n",
    "ocsvm_0.fit(X_train_0)\n",
    "\n",
    "ocsvm_1 = OneClassSVM(kernel='rbf', nu=0.05, gamma='scale')\n",
    "ocsvm_1.fit(X_train_1)\n",
    "\n",
    "ocsvm_2 = OneClassSVM(kernel='rbf', nu=0.05, gamma='scale')\n",
    "ocsvm_2.fit(X_train_2)\n",
    "\n",
    "# Predict Using All Three Models\n",
    "predictions = []\n",
    "\n",
    "for idx in range(X_test.shape[0]):\n",
    "    sample = X_test.iloc[idx:idx+1]\n",
    "\n",
    "    # Compute decision function scores\n",
    "    score_0 = ocsvm_0.decision_function(sample)[0]\n",
    "    score_1 = ocsvm_1.decision_function(sample)[0]\n",
    "    score_2 = ocsvm_2.decision_function(sample)[0]\n",
    "\n",
    "    scores = [score_0, score_1, score_2]\n",
    "\n",
    "    # Predict the class with the highest score\n",
    "    predicted_class = np.argmax(scores)\n",
    "    predictions.append(predicted_class)\n",
    "\n",
    "# Convert predictions to array\n",
    "predictions = np.array(predictions)\n",
    "\n",
    "# Multi-Class One-Class SVM Classification Report\n",
    "print(\"\\nOne-Class SVM Multi-Class Classification Report\")\n",
    "print(classification_report(y_test, predictions))"
   ]
  },
  {
   "cell_type": "markdown",
   "id": "194b17cf-9435-475b-84e5-4e26f6aa6a7b",
   "metadata": {},
   "source": [
    "# Save final prediction data to results directory to be used in ensemble voting"
   ]
  },
  {
   "cell_type": "code",
   "execution_count": 5,
   "id": "83debc1e-cbf8-470e-9039-1a731195f5db",
   "metadata": {},
   "outputs": [],
   "source": [
    "# Make results directory, if it's doesn't exist\n",
    "os.makedirs(\"results\", exist_ok=True)\n",
    "# Save prediction results to be later used in the ensemble voting\n",
    "np.save(\"results/y_pred_ocsvm.npy\", predictions)\n",
    "# Save test data to be later used in the ensemble voting\n",
    "np.save(\"results/y_test.npy\", y_test.to_numpy())"
   ]
  }
 ],
 "metadata": {
  "kernelspec": {
   "display_name": "Python 3 (ipykernel)",
   "language": "python",
   "name": "python3"
  },
  "language_info": {
   "codemirror_mode": {
    "name": "ipython",
    "version": 3
   },
   "file_extension": ".py",
   "mimetype": "text/x-python",
   "name": "python",
   "nbconvert_exporter": "python",
   "pygments_lexer": "ipython3",
   "version": "3.9.6"
  }
 },
 "nbformat": 4,
 "nbformat_minor": 5
}
