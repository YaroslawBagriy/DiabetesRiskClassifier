{
 "cells": [
  {
   "cell_type": "code",
   "execution_count": 5,
   "id": "44466662-7676-4873-b36f-aea98e8ad10d",
   "metadata": {},
   "outputs": [],
   "source": [
    "# imports\n",
    "import os\n",
    "import pandas as pd\n",
    "import numpy as np\n",
    "from sklearn.svm import OneClassSVM\n",
    "from sklearn.metrics import classification_report\n",
    "from sklearn.model_selection import train_test_split"
   ]
  },
  {
   "cell_type": "code",
   "execution_count": 6,
   "id": "adfd97c1-19d5-4d0c-90fc-c5f6c8717656",
   "metadata": {},
   "outputs": [],
   "source": [
    "# Load cleaned data from eda step\n",
    "file_path = \"../data/cleaned_diabetes_health_indicators_dataset.csv\"\n",
    "df = pd.read_csv(file_path)"
   ]
  },
  {
   "cell_type": "code",
   "execution_count": 7,
   "id": "736d535a-81e2-4678-857f-d296b7551ab7",
   "metadata": {},
   "outputs": [],
   "source": [
    "# Separate features and target\n",
    "X = df.drop(\"Diabetes_012\", axis=1)\n",
    "y = df[\"Diabetes_012\"]\n",
    "\n",
    "# Split data into training and testing sets\n",
    "X_train, X_test, y_train, y_test = train_test_split(X, y, test_size=0.2, random_state=42)"
   ]
  },
  {
   "cell_type": "code",
   "execution_count": 8,
   "id": "2771833d-cceb-4051-8981-e16ff0aab7be",
   "metadata": {},
   "outputs": [
    {
     "name": "stdout",
     "output_type": "stream",
     "text": [
      "\n",
      "One-Class SVM Multi-Class Classification Report\n",
      "              precision    recall  f1-score   support\n",
      "\n",
      "         0.0       0.84      0.94      0.89     38116\n",
      "         1.0       0.02      0.03      0.02       906\n",
      "         2.0       0.39      0.07      0.11      6935\n",
      "\n",
      "    accuracy                           0.79     45957\n",
      "   macro avg       0.42      0.35      0.34     45957\n",
      "weighted avg       0.75      0.79      0.75     45957\n",
      "\n"
     ]
    }
   ],
   "source": [
    "# Train on each class separately\n",
    "mask_0 = (y_train == 0)\n",
    "X_train_0 = X_train[mask_0]\n",
    "\n",
    "mask_1 = (y_train == 1)\n",
    "X_train_1 = X_train[mask_1]\n",
    "\n",
    "mask_2 = (y_train == 2)\n",
    "X_train_2 = X_train[mask_2]\n",
    "\n",
    "# Create and fit models\n",
    "ocsvm_0 = OneClassSVM(kernel='rbf', nu=0.05, gamma='scale')\n",
    "ocsvm_0.fit(X_train_0)\n",
    "\n",
    "ocsvm_1 = OneClassSVM(kernel='rbf', nu=0.05, gamma='scale')\n",
    "ocsvm_1.fit(X_train_1)\n",
    "\n",
    "ocsvm_2 = OneClassSVM(kernel='rbf', nu=0.05, gamma='scale')\n",
    "ocsvm_2.fit(X_train_2)\n",
    "\n",
    "# Predict Using All Three Models\n",
    "predictions = []\n",
    "\n",
    "for idx in range(X_test.shape[0]):\n",
    "    sample = X_test.iloc[idx:idx+1]\n",
    "\n",
    "    # Compute decision function scores\n",
    "    score_0 = ocsvm_0.decision_function(sample)[0]\n",
    "    score_1 = ocsvm_1.decision_function(sample)[0]\n",
    "    score_2 = ocsvm_2.decision_function(sample)[0]\n",
    "\n",
    "    scores = [score_0, score_1, score_2]\n",
    "\n",
    "    # Predict the class with the highest score\n",
    "    predicted_class = np.argmax(scores)\n",
    "    predictions.append(predicted_class)\n",
    "\n",
    "# Convert predictions to array\n",
    "predictions = np.array(predictions)\n",
    "\n",
    "# Multi-Class One-Class SVM Classification Report\n",
    "print(\"\\nOne-Class SVM Multi-Class Classification Report\")\n",
    "print(classification_report(y_test, predictions))"
   ]
  },
  {
   "cell_type": "markdown",
   "id": "194b17cf-9435-475b-84e5-4e26f6aa6a7b",
   "metadata": {},
   "source": [
    "# Save final prediction data to results directroy to be used in ensemble voting"
   ]
  },
  {
   "cell_type": "code",
   "execution_count": null,
   "id": "83debc1e-cbf8-470e-9039-1a731195f5db",
   "metadata": {},
   "outputs": [],
   "source": [
    "# Make results directory, if it's doesn't exist\n",
    "os.makedirs(\"results\", exist_ok=True)\n",
    "# Save prediction results to be later used in the ensemble voting\n",
    "np.save(\"results/y_pred_ocsvm.npy\", predictions)\n",
    "# Save test data to be later used in the ensemble voting\n",
    "np.save(\"results/y_test.npy\", y_test.to_numpy())"
   ]
  }
 ],
 "metadata": {
  "kernelspec": {
   "display_name": "Python 3 (ipykernel)",
   "language": "python",
   "name": "python3"
  },
  "language_info": {
   "codemirror_mode": {
    "name": "ipython",
    "version": 3
   },
   "file_extension": ".py",
   "mimetype": "text/x-python",
   "name": "python",
   "nbconvert_exporter": "python",
   "pygments_lexer": "ipython3",
   "version": "3.9.6"
  }
 },
 "nbformat": 4,
 "nbformat_minor": 5
}
