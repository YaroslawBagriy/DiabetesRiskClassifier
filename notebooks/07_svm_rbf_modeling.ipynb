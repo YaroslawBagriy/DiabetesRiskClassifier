{
 "cells": [
  {
   "cell_type": "code",
   "execution_count": 15,
   "id": "4b95418a-16a3-402f-b7c4-ab439fdeb4f3",
   "metadata": {},
   "outputs": [],
   "source": [
    "# imports\n",
    "import os\n",
    "import pandas as pd\n",
    "import numpy as np\n",
    "from sklearn import preprocessing\n",
    "from sklearn.svm import SVC\n",
    "from sklearn.metrics import classification_report\n",
    "from sklearn.model_selection import train_test_split"
   ]
  },
  {
   "cell_type": "code",
   "execution_count": 16,
   "id": "c1bca596-237f-4524-9631-d64fefd76b8d",
   "metadata": {},
   "outputs": [],
   "source": [
    "# Load cleaned data from eda step\n",
    "file_path = \"../data/cleaned_diabetes_health_indicators_dataset.csv\"\n",
    "df = pd.read_csv(file_path)"
   ]
  },
  {
   "cell_type": "code",
   "execution_count": 17,
   "id": "56c9ce74-3398-4505-b899-71170d5bf318",
   "metadata": {},
   "outputs": [
    {
     "name": "stdout",
     "output_type": "stream",
     "text": [
      "Train/Test Split done\n"
     ]
    }
   ],
   "source": [
    "# Standardize Data\n",
    "dependent_column = [\"Diabetes_012\"]\n",
    "numerical_predictor_columns = [\"BMI\", \"Age\", \"Income\"]\n",
    "\n",
    "# Find Z-score of Numerical Predictors\n",
    "Z_train = preprocessing.scale(df[numerical_predictor_columns])\n",
    "Z_train = pd.DataFrame(Z_train, columns=numerical_predictor_columns)\n",
    "\n",
    "# Create dummy vars\n",
    "dummy_HighBP = pd.get_dummies(df[\"HighBP\"], drop_first=True)\n",
    "dummy_HighChol = pd.get_dummies(df[\"HighChol\"], drop_first=True)\n",
    "dummy_CholCheck = pd.get_dummies(df[\"CholCheck\"], drop_first=True)\n",
    "dummy_Smoker = pd.get_dummies(df[\"Smoker\"] , drop_first=True)\n",
    "dummy_Stroke = pd.get_dummies(df[\"Stroke\"] , drop_first=True)\n",
    "dummy_HeartDiseaseorAttack = pd.get_dummies(df[\"HeartDiseaseorAttack\"] , drop_first=True)\n",
    "dummy_PhysActivity = pd.get_dummies(df[\"PhysActivity\"] , drop_first=True)\n",
    "dummy_Fruits = pd.get_dummies(df[\"Fruits\"] , drop_first=True)\n",
    "dummy_Veggies = pd.get_dummies(df[\"Veggies\"] , drop_first=True)\n",
    "dummy_HvyAlcoholConsump = pd.get_dummies(df[\"HvyAlcoholConsump\"] , drop_first=True)\n",
    "dummy_AnyHealthcare = pd.get_dummies(df[\"AnyHealthcare\"] , drop_first=True)\n",
    "dummy_NoDocbcCost = pd.get_dummies(df[\"NoDocbcCost\"] , drop_first=True)\n",
    "dummy_GenHlth = pd.get_dummies(df[\"GenHlth\"] , drop_first=True)\n",
    "dummy_DiffWalk = pd.get_dummies(df[\"DiffWalk\"] , drop_first=True)\n",
    "dummy_Sex = pd.get_dummies(df[\"Sex\"] , drop_first=True)\n",
    "dummy_Education = pd.get_dummies(df[\"Education\"] , drop_first=True)\n",
    "dummy_MentHlth = pd.get_dummies(df[\"MentHlth\"] , drop_first=True)\n",
    "dummy_PhysHlth = pd.get_dummies(df[\"PhysHlth\"] , drop_first=True)\n",
    "\n",
    "# Concatenate the standardized numerical features with the dummy vars\n",
    "X = pd.concat([Z_train, dummy_HighBP, dummy_HighChol, dummy_CholCheck, dummy_Smoker, dummy_Stroke, dummy_HeartDiseaseorAttack,\n",
    "                     dummy_PhysActivity, dummy_Fruits, dummy_Veggies, dummy_HvyAlcoholConsump, dummy_AnyHealthcare, dummy_NoDocbcCost,\n",
    "                    dummy_GenHlth, dummy_DiffWalk, dummy_Sex, dummy_Education], axis=1)\n",
    "X.columns = X.columns.astype(str)\n",
    "y = df[dependent_column]\n",
    "\n",
    "# Do this to avoid warnings\n",
    "y = y.values.ravel()\n",
    "\n",
    "# Merge Class 1 and 2 into single class\n",
    "y_binary = y.copy()\n",
    "y_binary[y_binary == 2] = 1\n",
    "\n",
    "# Split data into training and testing sets\n",
    "X_train, X_test, y_train_binary, y_test_binary = train_test_split(X, y_binary, test_size=0.2, random_state=42, stratify=y_binary)\n",
    "print(\"Train/Test Split done\")"
   ]
  },
  {
   "cell_type": "code",
   "execution_count": null,
   "id": "4515caa9-a630-4eac-8174-0a5267014037",
   "metadata": {},
   "outputs": [],
   "source": [
    "y_train_binary = pd.Series(y_train_binary, index=X_train.index)\n",
    "y_test_binary = pd.Series(y_test_binary, index=X_test.index)\n",
    "\n",
    "# Stage 1: SVM RBF - 0 vs (1+2)\n",
    "svm_stage1 = SVC(kernel='rbf', probability=True, class_weight='balanced')\n",
    "svm_stage1.fit(X_train, y_train_binary)\n",
    "\n",
    "y_pred_binary = svm_stage1.predict(X_test)\n",
    "\n",
    "print(\"\\nStage 1 SVM Classification Report (0 vs 1+2):\")\n",
    "print(classification_report(y_test_binary, y_pred_binary))\n",
    "\n",
    "# Stage 2: SVM RBF - 1 vs 2\n",
    "\n",
    "# Get original test labels with 0/1/2\n",
    "y_test_full = y.iloc[y_test_binary.index]\n",
    "\n",
    "# Find samples predicted as diabetic\n",
    "indices_pred_diabetes = np.where(y_pred_binary == 1)[0]\n",
    "X_test_diabetes = X_test.iloc[indices_pred_diabetes]\n",
    "y_test_diabetes = y_test_full.iloc[indices_pred_diabetes]\n",
    "\n",
    "# Keep only class 1 and 2\n",
    "mask_12 = (y_test_diabetes == 1) | (y_test_diabetes == 2)\n",
    "X_test_diabetes = X_test_diabetes[mask_12]\n",
    "y_test_diabetes = y_test_diabetes[mask_12]\n",
    "\n",
    "# Prepare second-stage training data\n",
    "y_train_full = y.loc[X_train.index]\n",
    "mask_train_diabetes = (y_train_binary == 1)\n",
    "X_train_diabetes = X_train[mask_train_diabetes]\n",
    "y_train_diabetes = y_train_full[mask_train_diabetes]\n",
    "\n",
    "# Train second SVM\n",
    "svm_stage2 = SVC(kernel='rbf', probability=True, class_weight='balanced')\n",
    "svm_stage2.fit(X_train_diabetes, y_train_diabetes)\n",
    "\n",
    "y_pred_second_stage = svm_stage2.predict(X_test_diabetes)\n",
    "\n",
    "print(\"\\nStage 2 SVM Classification Report (1 vs 2):\")\n",
    "print(classification_report(y_test_diabetes, y_pred_second_stage))"
   ]
  },
  {
   "cell_type": "code",
   "execution_count": null,
   "id": "a88274b6-9c86-4f72-8f99-7b0d8100cb16",
   "metadata": {},
   "outputs": [],
   "source": [
    "# Reconstruct final prediction array\n",
    "y_pred_final = y_pred_binary.copy()\n",
    "pred_diabetes_indices = np.where(y_pred_binary == 1)[0]\n",
    "\n",
    "# Reindex and assign\n",
    "y_test_full_diabetes = y_test_full.iloc[pred_diabetes_indices]\n",
    "valid_indices = pred_diabetes_indices[(y_test_full_diabetes == 1) | (y_test_full_diabetes == 2)]\n",
    "\n",
    "for i, idx in enumerate(valid_indices):\n",
    "    y_pred_final[idx] = y_pred_second_stage[i]\n",
    "\n",
    "# --------------------------------------------\n",
    "# Save final predictions\n",
    "# --------------------------------------------\n",
    "import os\n",
    "os.makedirs(\"results\", exist_ok=True)\n",
    "np.save(\"results/y_pred_svm.npy\", y_pred_final)"
   ]
  },
  {
   "cell_type": "code",
   "execution_count": null,
   "id": "a9ab57eb-f05e-45de-804b-a3cceeea5e53",
   "metadata": {},
   "outputs": [],
   "source": []
  }
 ],
 "metadata": {
  "kernelspec": {
   "display_name": "Python 3 (ipykernel)",
   "language": "python",
   "name": "python3"
  },
  "language_info": {
   "codemirror_mode": {
    "name": "ipython",
    "version": 3
   },
   "file_extension": ".py",
   "mimetype": "text/x-python",
   "name": "python",
   "nbconvert_exporter": "python",
   "pygments_lexer": "ipython3",
   "version": "3.9.6"
  }
 },
 "nbformat": 4,
 "nbformat_minor": 5
}
