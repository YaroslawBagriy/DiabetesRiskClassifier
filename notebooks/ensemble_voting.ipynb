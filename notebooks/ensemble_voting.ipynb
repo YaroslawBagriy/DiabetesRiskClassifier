{
 "cells": [
  {
   "cell_type": "code",
   "execution_count": 1,
   "id": "99cfb142-3929-49c7-bf27-3ff03d527b3d",
   "metadata": {},
   "outputs": [],
   "source": [
    "# imports\n",
    "import numpy as np\n",
    "from sklearn.metrics import classification_report"
   ]
  },
  {
   "cell_type": "code",
   "execution_count": 2,
   "id": "39b2d22c-b109-42cf-81cb-a26b3e9670e1",
   "metadata": {},
   "outputs": [],
   "source": [
    "# Functions\n",
    "def hard_vote(y_preds_list):\n",
    "    # Ensure all predictions are integer type\n",
    "    y_preds_list = [pred.astype(int) for pred in y_preds_list]\n",
    "    preds = np.stack(y_preds_list, axis=1)\n",
    "    return np.array([np.argmax(np.bincount(row, minlength=3)) for row in preds])"
   ]
  },
  {
   "cell_type": "code",
   "execution_count": 3,
   "id": "600b117d-2a04-454b-ae64-b5445b9af093",
   "metadata": {},
   "outputs": [
    {
     "name": "stdout",
     "output_type": "stream",
     "text": [
      "\n",
      " Ensemble Voting Report with Hard Voting\n",
      "              precision    recall  f1-score   support\n",
      "\n",
      "           0       0.83      0.68      0.75     38116\n",
      "           1       0.02      0.21      0.04       906\n",
      "           2       0.16      0.11      0.13      6935\n",
      "\n",
      "    accuracy                           0.59     45957\n",
      "   macro avg       0.34      0.33      0.30     45957\n",
      "weighted avg       0.71      0.59      0.64     45957\n",
      "\n"
     ]
    }
   ],
   "source": [
    "# Load prediction data from all models in ensemble\n",
    "y_pred_lr = np.load(\"results/y_pred_lr.npy\").astype(int)\n",
    "y_pred_dt = np.load(\"results/y_pred_dt.npy\").astype(int)\n",
    "y_pred_ocsvm = np.load(\"results/y_pred_ocsvm.npy\").astype(int)\n",
    "y_pred_svm = np.load(\"results/y_pred_svm.npy\")   \n",
    "y_test = np.load(\"results/y_test.npy\").astype(int)\n",
    "\n",
    "y_ensemble = hard_vote([y_pred_lr, y_pred_dt, y_pred_ocsvm, y_pred_svm])\n",
    "\n",
    "# Evaluation\n",
    "print(\"\\n Ensemble Voting Report with Hard Voting\")\n",
    "print(classification_report(y_test, y_ensemble))"
   ]
  }
 ],
 "metadata": {
  "kernelspec": {
   "display_name": "Python 3 (ipykernel)",
   "language": "python",
   "name": "python3"
  },
  "language_info": {
   "codemirror_mode": {
    "name": "ipython",
    "version": 3
   },
   "file_extension": ".py",
   "mimetype": "text/x-python",
   "name": "python",
   "nbconvert_exporter": "python",
   "pygments_lexer": "ipython3",
   "version": "3.9.6"
  }
 },
 "nbformat": 4,
 "nbformat_minor": 5
}
