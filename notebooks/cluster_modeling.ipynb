{
 "cells": [
  {
   "cell_type": "code",
   "execution_count": 1,
   "id": "c5745714-d9b9-40d4-b851-e2b993af5a70",
   "metadata": {},
   "outputs": [],
   "source": [
    "# Imports\n",
    "import pandas as pd\n",
    "import numpy as np\n",
    "import matplotlib.pyplot as plt\n",
    "from sklearn import preprocessing\n",
    "from sklearn.model_selection import train_test_split\n",
    "from sklearn.metrics import classification_report"
   ]
  },
  {
   "cell_type": "code",
   "execution_count": 4,
   "id": "15db6933-2c01-456d-b378-ba3581083c4c",
   "metadata": {},
   "outputs": [],
   "source": [
    "from scipy.cluster.hierarchy import dendrogram, linkage"
   ]
  },
  {
   "cell_type": "markdown",
   "id": "4566b98a-afde-4492-89eb-2655fc27c3f1",
   "metadata": {},
   "source": [
    "# Modeling\n",
    "\n",
    "In this step we'll load the cleaned data set and then perform the modeling steps."
   ]
  },
  {
   "cell_type": "code",
   "execution_count": 6,
   "id": "7545fed2-e965-4273-a941-edccb80cedce",
   "metadata": {},
   "outputs": [],
   "source": [
    "# Load cleaned data from eda step\n",
    "file_path = \"../data/cleaned_diabetes_health_indicators_dataset.csv\"\n",
    "df = pd.read_csv(file_path)"
   ]
  },
  {
   "cell_type": "code",
   "execution_count": 8,
   "id": "85f1e09c-c76b-4c07-9aba-3c393986cb84",
   "metadata": {},
   "outputs": [],
   "source": [
    "# Perform Logistic Regression on the data set\n",
    "\n",
    "# Numerical Predictors\n",
    "# BMI\n",
    "# MentHlth\n",
    "# PhysHlth\n",
    "# Age\n",
    "\n",
    "# Categorical Predictors\n",
    "# HighBP\n",
    "# HighChol\n",
    "# CholCheck\n",
    "# Smoker\n",
    "# Stroke\n",
    "# HeartDiseaseorAttack\n",
    "# PhysActivity\n",
    "# Fruits\n",
    "# Veggies\n",
    "# HvyAlcoholConsump\n",
    "# AnyHealthcare\n",
    "# NoDocbcCost\n",
    "# GenHlth\n",
    "# DiffWalk\n",
    "# Sex\n",
    "# Education\n",
    "# Income\n",
    "\n",
    "# Target\n",
    "# Diabetes_012\n",
    "\n",
    "# Standardize Data\n",
    "dependent_column = [\"Diabetes_012\"]\n",
    "numerical_predictor_columns = [\"BMI\", \"MentHlth\", \"PhysHlth\", \"Age\"]\n",
    "\n",
    "# Find Z-score of Numerical Predictors\n",
    "Z_train = preprocessing.scale(df[numerical_predictor_columns])\n",
    "Z_train = pd.DataFrame(Z_train, columns=numerical_predictor_columns)\n",
    "\n",
    "# Create dummy vars\n",
    "dummy_HighBP = pd.get_dummies(df[\"HighBP\"], drop_first=True)\n",
    "dummy_HighChol = pd.get_dummies(df[\"HighChol\"], drop_first=True)\n",
    "dummy_CholCheck = pd.get_dummies(df[\"CholCheck\"], drop_first=True)\n",
    "dummy_Smoker = pd.get_dummies(df[\"Smoker\"] , drop_first=True)\n",
    "dummy_Stroke = pd.get_dummies(df[\"Stroke\"] , drop_first=True)\n",
    "dummy_HeartDiseaseorAttack = pd.get_dummies(df[\"HeartDiseaseorAttack\"] , drop_first=True)\n",
    "dummy_PhysActivity = pd.get_dummies(df[\"PhysActivity\"] , drop_first=True)\n",
    "dummy_Fruits = pd.get_dummies(df[\"Fruits\"] , drop_first=True)\n",
    "dummy_Veggies = pd.get_dummies(df[\"Veggies\"] , drop_first=True)\n",
    "dummy_HvyAlcoholConsump = pd.get_dummies(df[\"HvyAlcoholConsump\"] , drop_first=True)\n",
    "dummy_AnyHealthcare = pd.get_dummies(df[\"AnyHealthcare\"] , drop_first=True)\n",
    "dummy_NoDocbcCost = pd.get_dummies(df[\"NoDocbcCost\"] , drop_first=True)\n",
    "dummy_GenHlth = pd.get_dummies(df[\"GenHlth\"] , drop_first=True)\n",
    "dummy_DiffWalk = pd.get_dummies(df[\"DiffWalk\"] , drop_first=True)\n",
    "dummy_Sex = pd.get_dummies(df[\"Sex\"] , drop_first=True)\n",
    "dummy_Education = pd.get_dummies(df[\"Education\"] , drop_first=True)\n",
    "dummy_Income = pd.get_dummies(df[\"Income\"] , drop_first=True)\n",
    "\n",
    "# Concatenate the standardized numerical features with the dummy vars\n",
    "X = pd.concat([Z_train, dummy_HighBP, dummy_HighChol, dummy_CholCheck, dummy_Smoker, dummy_Stroke, dummy_HeartDiseaseorAttack,\n",
    "                     dummy_PhysActivity, dummy_Fruits, dummy_Veggies, dummy_HvyAlcoholConsump, dummy_AnyHealthcare, dummy_NoDocbcCost,\n",
    "                    dummy_GenHlth, dummy_DiffWalk, dummy_Sex, dummy_Education, dummy_Income], axis=1)\n",
    "X.columns = X.columns.astype(str)\n",
    "y = df[dependent_column]\n",
    "\n",
    "# Do this to avoid warnings\n",
    "y = y.values.ravel()\n",
    "\n",
    "# Split data into training and test data after standardization\n",
    "X_train, X_test, y_train, y_test = train_test_split(X, y, test_size=0.2, stratify=y, random_state=1337)"
   ]
  },
  {
   "cell_type": "code",
   "execution_count": 10,
   "id": "8f87155d-533d-4d7f-ae2b-0216f632b151",
   "metadata": {},
   "outputs": [
    {
     "name": "stdout",
     "output_type": "stream",
     "text": [
      "(229781, 34) (229781,)\n"
     ]
    }
   ],
   "source": [
    "print(X.shape, y.shape)"
   ]
  },
  {
   "cell_type": "code",
   "execution_count": 12,
   "id": "b44181be-6569-40d6-852c-b2ff1b9357de",
   "metadata": {},
   "outputs": [],
   "source": [
    "from imblearn.under_sampling import RandomUnderSampler\n",
    "rus = RandomUnderSampler(random_state=0)\n",
    "X_resampled, y_resampled = rus.fit_resample(X, y)"
   ]
  },
  {
   "cell_type": "code",
   "execution_count": 14,
   "id": "6d33c88d-1674-484a-8181-68c54c236cca",
   "metadata": {},
   "outputs": [
    {
     "name": "stdout",
     "output_type": "stream",
     "text": [
      "(13887, 34) (13887,)\n"
     ]
    }
   ],
   "source": [
    "print(X_resampled.shape, y_resampled.shape)"
   ]
  },
  {
   "cell_type": "code",
   "execution_count": 16,
   "id": "a7346eb4-6be8-4d12-a43d-4d3a8be04849",
   "metadata": {},
   "outputs": [],
   "source": [
    "from sklearn.cluster import AgglomerativeClustering\n",
    "from scipy.cluster.hierarchy import dendrogram, linkage"
   ]
  },
  {
   "cell_type": "code",
   "execution_count": 18,
   "id": "d54514e6-8544-4e2c-acc6-e6b9d689eccc",
   "metadata": {},
   "outputs": [],
   "source": [
    "Complete = AgglomerativeClustering(metric='cosine', n_clusters=5, linkage='complete')\n",
    "Complete.fit(X_resampled)\n",
    "#print(Complete.labels_)\n",
    "\n",
    "Complete = linkage(Complete.children_, method='complete')"
   ]
  },
  {
   "cell_type": "code",
   "execution_count": null,
   "id": "1532992f-fe73-424c-a0a2-9fe3d6772fb9",
   "metadata": {},
   "outputs": [],
   "source": [
    "# Create the figure and axes for subplots\n",
    "fig, axes = plt.subplots(nrows=1, ncols=1, figsize=(18, 3))\n",
    "\n",
    "# Plot the dendrogram on subplots\n",
    "dendrogram(Complete, ax=axes)\n",
    "\n",
    "# Set titles and labels for subplots\n",
    "axes.set_title('Dendrogram - Complete Link')\n",
    "axes.set_xlabel('Data points')\n",
    "axes.set_ylabel('Distance')\n",
    "\n",
    "\n",
    "# Show the figure\n",
    "plt.show()"
   ]
  },
  {
   "cell_type": "code",
   "execution_count": 27,
   "id": "668a1e33-f19e-4e97-8f51-2a89e957c2af",
   "metadata": {},
   "outputs": [
    {
     "name": "stdout",
     "output_type": "stream",
     "text": [
      "[   1    2    3 ... 1569 1570 1571]\n",
      "(13886,)\n"
     ]
    }
   ],
   "source": [
    "from scipy.cluster.hierarchy import fcluster\n",
    "\n",
    "# Cut the linkage into clusters using a distance threshold\n",
    "distance_threshold = 500\n",
    "cluster_labels = fcluster(Complete, t=distance_threshold, criterion='distance')\n",
    "unique_labels = np.unique(cluster_labels)\n",
    "print(unique_labels)\n",
    "print(cluster_labels.shape)"
   ]
  },
  {
   "cell_type": "code",
   "execution_count": 28,
   "id": "bddbea46-b636-4b8e-8f62-a1ed6913c3a7",
   "metadata": {},
   "outputs": [],
   "source": [
    "from matplotlib.colors import ListedColormap\n",
    "colors = ['red', 'green', 'blue', 'orange', 'yellow']\n",
    "cmap = ListedColormap(colors)"
   ]
  },
  {
   "cell_type": "code",
   "execution_count": 29,
   "id": "7a4a1384-c514-4057-bc2f-682e1e7a0969",
   "metadata": {},
   "outputs": [
    {
     "ename": "InvalidIndexError",
     "evalue": "(slice(1, None, None), 0)",
     "output_type": "error",
     "traceback": [
      "\u001b[0;31m---------------------------------------------------------------------------\u001b[0m",
      "\u001b[0;31mKeyError\u001b[0m                                  Traceback (most recent call last)",
      "File \u001b[0;32m/opt/anaconda3/lib/python3.12/site-packages/pandas/core/indexes/base.py:3805\u001b[0m, in \u001b[0;36mIndex.get_loc\u001b[0;34m(self, key)\u001b[0m\n\u001b[1;32m   3804\u001b[0m \u001b[38;5;28;01mtry\u001b[39;00m:\n\u001b[0;32m-> 3805\u001b[0m     \u001b[38;5;28;01mreturn\u001b[39;00m \u001b[38;5;28mself\u001b[39m\u001b[38;5;241m.\u001b[39m_engine\u001b[38;5;241m.\u001b[39mget_loc(casted_key)\n\u001b[1;32m   3806\u001b[0m \u001b[38;5;28;01mexcept\u001b[39;00m \u001b[38;5;167;01mKeyError\u001b[39;00m \u001b[38;5;28;01mas\u001b[39;00m err:\n",
      "File \u001b[0;32mindex.pyx:167\u001b[0m, in \u001b[0;36mpandas._libs.index.IndexEngine.get_loc\u001b[0;34m()\u001b[0m\n",
      "File \u001b[0;32mindex.pyx:191\u001b[0m, in \u001b[0;36mpandas._libs.index.IndexEngine.get_loc\u001b[0;34m()\u001b[0m\n",
      "File \u001b[0;32mindex.pyx:234\u001b[0m, in \u001b[0;36mpandas._libs.index.IndexEngine._get_loc_duplicates\u001b[0;34m()\u001b[0m\n",
      "File \u001b[0;32mindex.pyx:242\u001b[0m, in \u001b[0;36mpandas._libs.index.IndexEngine._maybe_get_bool_indexer\u001b[0;34m()\u001b[0m\n",
      "File \u001b[0;32mindex.pyx:134\u001b[0m, in \u001b[0;36mpandas._libs.index._unpack_bool_indexer\u001b[0;34m()\u001b[0m\n",
      "\u001b[0;31mKeyError\u001b[0m: (slice(1, None, None), 0)",
      "\nDuring handling of the above exception, another exception occurred:\n",
      "\u001b[0;31mInvalidIndexError\u001b[0m                         Traceback (most recent call last)",
      "Cell \u001b[0;32mIn[29], line 2\u001b[0m\n\u001b[1;32m      1\u001b[0m \u001b[38;5;28;01mimport\u001b[39;00m \u001b[38;5;21;01mmatplotlib\u001b[39;00m\u001b[38;5;21;01m.\u001b[39;00m\u001b[38;5;21;01mpyplot\u001b[39;00m \u001b[38;5;28;01mas\u001b[39;00m \u001b[38;5;21;01mplt\u001b[39;00m\n\u001b[0;32m----> 2\u001b[0m plt\u001b[38;5;241m.\u001b[39mscatter(X[\u001b[38;5;241m1\u001b[39m:, \u001b[38;5;241m0\u001b[39m], X[\u001b[38;5;241m1\u001b[39m:, \u001b[38;5;241m1\u001b[39m], c\u001b[38;5;241m=\u001b[39mcluster_labels, cmap\u001b[38;5;241m=\u001b[39mcmap)\n\u001b[1;32m      3\u001b[0m plt\u001b[38;5;241m.\u001b[39mxlabel(\u001b[38;5;124m'\u001b[39m\u001b[38;5;124mX1\u001b[39m\u001b[38;5;124m'\u001b[39m)\n\u001b[1;32m      4\u001b[0m plt\u001b[38;5;241m.\u001b[39mylabel(\u001b[38;5;124m'\u001b[39m\u001b[38;5;124mX2\u001b[39m\u001b[38;5;124m'\u001b[39m)\n",
      "File \u001b[0;32m/opt/anaconda3/lib/python3.12/site-packages/pandas/core/frame.py:4102\u001b[0m, in \u001b[0;36mDataFrame.__getitem__\u001b[0;34m(self, key)\u001b[0m\n\u001b[1;32m   4100\u001b[0m \u001b[38;5;28;01mif\u001b[39;00m \u001b[38;5;28mself\u001b[39m\u001b[38;5;241m.\u001b[39mcolumns\u001b[38;5;241m.\u001b[39mnlevels \u001b[38;5;241m>\u001b[39m \u001b[38;5;241m1\u001b[39m:\n\u001b[1;32m   4101\u001b[0m     \u001b[38;5;28;01mreturn\u001b[39;00m \u001b[38;5;28mself\u001b[39m\u001b[38;5;241m.\u001b[39m_getitem_multilevel(key)\n\u001b[0;32m-> 4102\u001b[0m indexer \u001b[38;5;241m=\u001b[39m \u001b[38;5;28mself\u001b[39m\u001b[38;5;241m.\u001b[39mcolumns\u001b[38;5;241m.\u001b[39mget_loc(key)\n\u001b[1;32m   4103\u001b[0m \u001b[38;5;28;01mif\u001b[39;00m is_integer(indexer):\n\u001b[1;32m   4104\u001b[0m     indexer \u001b[38;5;241m=\u001b[39m [indexer]\n",
      "File \u001b[0;32m/opt/anaconda3/lib/python3.12/site-packages/pandas/core/indexes/base.py:3811\u001b[0m, in \u001b[0;36mIndex.get_loc\u001b[0;34m(self, key)\u001b[0m\n\u001b[1;32m   3806\u001b[0m \u001b[38;5;28;01mexcept\u001b[39;00m \u001b[38;5;167;01mKeyError\u001b[39;00m \u001b[38;5;28;01mas\u001b[39;00m err:\n\u001b[1;32m   3807\u001b[0m     \u001b[38;5;28;01mif\u001b[39;00m \u001b[38;5;28misinstance\u001b[39m(casted_key, \u001b[38;5;28mslice\u001b[39m) \u001b[38;5;129;01mor\u001b[39;00m (\n\u001b[1;32m   3808\u001b[0m         \u001b[38;5;28misinstance\u001b[39m(casted_key, abc\u001b[38;5;241m.\u001b[39mIterable)\n\u001b[1;32m   3809\u001b[0m         \u001b[38;5;129;01mand\u001b[39;00m \u001b[38;5;28many\u001b[39m(\u001b[38;5;28misinstance\u001b[39m(x, \u001b[38;5;28mslice\u001b[39m) \u001b[38;5;28;01mfor\u001b[39;00m x \u001b[38;5;129;01min\u001b[39;00m casted_key)\n\u001b[1;32m   3810\u001b[0m     ):\n\u001b[0;32m-> 3811\u001b[0m         \u001b[38;5;28;01mraise\u001b[39;00m InvalidIndexError(key)\n\u001b[1;32m   3812\u001b[0m     \u001b[38;5;28;01mraise\u001b[39;00m \u001b[38;5;167;01mKeyError\u001b[39;00m(key) \u001b[38;5;28;01mfrom\u001b[39;00m \u001b[38;5;21;01merr\u001b[39;00m\n\u001b[1;32m   3813\u001b[0m \u001b[38;5;28;01mexcept\u001b[39;00m \u001b[38;5;167;01mTypeError\u001b[39;00m:\n\u001b[1;32m   3814\u001b[0m     \u001b[38;5;66;03m# If we have a listlike key, _check_indexing_error will raise\u001b[39;00m\n\u001b[1;32m   3815\u001b[0m     \u001b[38;5;66;03m#  InvalidIndexError. Otherwise we fall through and re-raise\u001b[39;00m\n\u001b[1;32m   3816\u001b[0m     \u001b[38;5;66;03m#  the TypeError.\u001b[39;00m\n",
      "\u001b[0;31mInvalidIndexError\u001b[0m: (slice(1, None, None), 0)"
     ]
    }
   ],
   "source": [
    "import matplotlib.pyplot as plt\n",
    "plt.scatter(X[1:, 0], X[1:, 1], c=cluster_labels, cmap=cmap)\n",
    "plt.xlabel('X1')\n",
    "plt.ylabel('X2')\n",
    "plt.title('Clustering with Complete Link, Cut Threshold = 500)')\n",
    "\n",
    "legend_handles = [plt.Line2D([], [], marker='o', color=color, linestyle='None') for color in colors]\n",
    "legend_labels = colors\n",
    "\n",
    "# Create the legend\n",
    "plt.legend(legend_handles, legend_labels)\n",
    "\n",
    "plt.show()"
   ]
  },
  {
   "cell_type": "code",
   "execution_count": null,
   "id": "0d31b686-1df1-49b4-a054-54cedf627075",
   "metadata": {},
   "outputs": [],
   "source": []
  }
 ],
 "metadata": {
  "kernelspec": {
   "display_name": "Python [conda env:base] *",
   "language": "python",
   "name": "conda-base-py"
  },
  "language_info": {
   "codemirror_mode": {
    "name": "ipython",
    "version": 3
   },
   "file_extension": ".py",
   "mimetype": "text/x-python",
   "name": "python",
   "nbconvert_exporter": "python",
   "pygments_lexer": "ipython3",
   "version": "3.12.7"
  }
 },
 "nbformat": 4,
 "nbformat_minor": 5
}
