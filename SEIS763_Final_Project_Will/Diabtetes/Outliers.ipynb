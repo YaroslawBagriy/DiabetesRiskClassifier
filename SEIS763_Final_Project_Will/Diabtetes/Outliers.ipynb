{
 "cells": [
  {
   "cell_type": "code",
   "execution_count": 1,
   "id": "d6bd118d-370f-45e3-94d8-a485e30dcbaa",
   "metadata": {},
   "outputs": [],
   "source": [
    "import pandas as pd\n",
    "import numpy as np\n",
    "import scipy.stats as stats\n",
    "from scipy.stats import zscore\n",
    "from sklearn.preprocessing import StandardScaler\n",
    "from sklearn.multiclass import OneVsRestClassifier\n",
    "from sklearn.linear_model import LogisticRegression, LogisticRegressionCV\n",
    "from sklearn.model_selection import train_test_split\n",
    "from sklearn.metrics import mean_squared_error, accuracy_score, confusion_matrix, classification_report, roc_auc_score, log_loss\n",
    "from imblearn.under_sampling import RandomUnderSampler\n",
    "from imblearn.over_sampling import SMOTE\n",
    "from collections import Counter\n",
    "import matplotlib.pyplot as plt\n",
    "import joblib"
   ]
  },
  {
   "cell_type": "code",
   "execution_count": 2,
   "id": "4b6a992d-bd30-466b-80c5-628371dedf37",
   "metadata": {},
   "outputs": [
    {
     "name": "stdout",
     "output_type": "stream",
     "text": [
      "Diabetes_012            0\n",
      "HighBP                  0\n",
      "HighChol                0\n",
      "CholCheck               0\n",
      "BMI                     0\n",
      "Smoker                  0\n",
      "Stroke                  0\n",
      "HeartDiseaseorAttack    0\n",
      "PhysActivity            0\n",
      "Fruits                  0\n",
      "Veggies                 0\n",
      "HvyAlcoholConsump       0\n",
      "AnyHealthcare           0\n",
      "NoDocbcCost             0\n",
      "GenHlth                 0\n",
      "MentHlth                0\n",
      "PhysHlth                0\n",
      "DiffWalk                0\n",
      "Sex                     0\n",
      "Age                     0\n",
      "Education               0\n",
      "Income                  0\n",
      "dtype: int64\n"
     ]
    }
   ],
   "source": [
    "original_df = pd.read_csv('Data/diabetes_012_health_indicators_BRFSS2015.csv')\n",
    "# Check missing values\n",
    "print(original_df.isnull().sum())"
   ]
  },
  {
   "cell_type": "code",
   "execution_count": 3,
   "id": "a0477ac9-4e21-47d9-b8b8-566bef3da644",
   "metadata": {},
   "outputs": [
    {
     "name": "stdout",
     "output_type": "stream",
     "text": [
      "Distribution for the values of for the target variable\n",
      "\n",
      "Diabetes_012\n",
      "0.0    213703\n",
      "2.0     35346\n",
      "1.0      4631\n",
      "Name: count, dtype: int64\n"
     ]
    },
    {
     "data": {
      "text/plain": [
       "<Axes: ylabel='count'>"
      ]
     },
     "execution_count": 3,
     "metadata": {},
     "output_type": "execute_result"
    },
    {
     "data": {
      "image/png": "[encoded data removed]",
      "text/plain": [
       "<Figure size 640x480 with 1 Axes>"
      ]
     },
     "metadata": {},
     "output_type": "display_data"
    }
   ],
   "source": [
    "print('Distribution for the values of for the target variable\\n')\n",
    "print(original_df[\"Diabetes_012\"].value_counts())\n",
    "original_df[\"Diabetes_012\"].value_counts().plot.pie(autopct='%.2f')"
   ]
  },
  {
   "cell_type": "code",
   "execution_count": 4,
   "id": "c6049ce1-af62-4db4-8f32-fd29dc4ad3f0",
   "metadata": {},
   "outputs": [
    {
     "data": {
      "text/html": [
       "<div>\n",
       "<style scoped>\n",
       "    .dataframe tbody tr th:only-of-type {\n",
       "        vertical-align: middle;\n",
       "    }\n",
       "\n",
       "    .dataframe tbody tr th {\n",
       "        vertical-align: top;\n",
       "    }\n",
       "\n",
       "    .dataframe thead th {\n",
       "        text-align: right;\n",
       "    }\n",
       "</style>\n",
       "<table border=\"1\" class=\"dataframe\">\n",
       "  <thead>\n",
       "    <tr style=\"text-align: right;\">\n",
       "      <th></th>\n",
       "      <th>HighBP</th>\n",
       "      <th>HighChol</th>\n",
       "      <th>CholCheck</th>\n",
       "      <th>BMI</th>\n",
       "      <th>Smoker</th>\n",
       "      <th>Stroke</th>\n",
       "      <th>HeartDiseaseorAttack</th>\n",
       "      <th>PhysActivity</th>\n",
       "      <th>Fruits</th>\n",
       "      <th>Veggies</th>\n",
       "      <th>...</th>\n",
       "      <th>AnyHealthcare</th>\n",
       "      <th>NoDocbcCost</th>\n",
       "      <th>GenHlth</th>\n",
       "      <th>MentHlth</th>\n",
       "      <th>PhysHlth</th>\n",
       "      <th>DiffWalk</th>\n",
       "      <th>Sex</th>\n",
       "      <th>Age</th>\n",
       "      <th>Education</th>\n",
       "      <th>Income</th>\n",
       "    </tr>\n",
       "  </thead>\n",
       "  <tbody>\n",
       "    <tr>\n",
       "      <th>0</th>\n",
       "      <td>1.0</td>\n",
       "      <td>1.0</td>\n",
       "      <td>1.0</td>\n",
       "      <td>40.0</td>\n",
       "      <td>1.0</td>\n",
       "      <td>0.0</td>\n",
       "      <td>0.0</td>\n",
       "      <td>0.0</td>\n",
       "      <td>0.0</td>\n",
       "      <td>1.0</td>\n",
       "      <td>...</td>\n",
       "      <td>1.0</td>\n",
       "      <td>0.0</td>\n",
       "      <td>5.0</td>\n",
       "      <td>18.0</td>\n",
       "      <td>15.0</td>\n",
       "      <td>1.0</td>\n",
       "      <td>0.0</td>\n",
       "      <td>9.0</td>\n",
       "      <td>4.0</td>\n",
       "      <td>3.0</td>\n",
       "    </tr>\n",
       "  </tbody>\n",
       "</table>\n",
       "<p>1 rows × 21 columns</p>\n",
       "</div>"
      ],
      "text/plain": [
       "   HighBP  HighChol  CholCheck   BMI  Smoker  Stroke  HeartDiseaseorAttack  \\\n",
       "0     1.0       1.0        1.0  40.0     1.0     0.0                   0.0   \n",
       "\n",
       "   PhysActivity  Fruits  Veggies  ...  AnyHealthcare  NoDocbcCost  GenHlth  \\\n",
       "0           0.0     0.0      1.0  ...            1.0          0.0      5.0   \n",
       "\n",
       "   MentHlth  PhysHlth  DiffWalk  Sex  Age  Education  Income  \n",
       "0      18.0      15.0       1.0  0.0  9.0        4.0     3.0  \n",
       "\n",
       "[1 rows x 21 columns]"
      ]
     },
     "execution_count": 4,
     "metadata": {},
     "output_type": "execute_result"
    }
   ],
   "source": [
    "y = original_df.Diabetes_012\n",
    "X = original_df.drop('Diabetes_012', axis=1)\n",
    "X.head(1)"
   ]
  },
  {
   "cell_type": "code",
   "execution_count": 5,
   "id": "594af3a5-9f3f-41b4-9641-41d9a89ecb8e",
   "metadata": {},
   "outputs": [],
   "source": [
    "# Numerical Predictors\n",
    "numerical_cols = ['BMI', 'MentHlth', 'PhysHlth', 'Age']\n",
    "# numerical_cols = list(dict.fromkeys(numerical_cols))  # Remove duplicates just in case\n",
    "\n",
    "# Categorical Predictors\n",
    "categorical_cols = [\n",
    "    'HighBP', 'HighChol', 'CholCheck', 'Smoker', 'Stroke', 'HeartDiseaseorAttack',\n",
    "    'PhysActivity', 'Fruits', 'Veggies', 'HvyAlcoholConsump', 'AnyHealthcare',\n",
    "    'NoDocbcCost', 'GenHlth', 'DiffWalk', 'Sex', 'Education', 'Income'\n",
    "]\n",
    "\n",
    "# One-hot encode categorical features and drop the first category of each\n",
    "# Feature Engineering - Turns categorical data into a numerical format that a model can understand\n",
    "X_cat = pd.get_dummies(X, columns=categorical_cols, drop_first=True)\n",
    "\n",
    "# Extract the numerical features\n",
    "X_num = X[numerical_cols]\n",
    "\n",
    "# Concatenate numerical and encoded categorical features\n",
    "X = pd.concat([X_num, X_cat], axis=1)\n",
    "\n",
    "# Remove any duplicated columns that may result from concat\n",
    "X = X.loc[:, ~X.columns.duplicated()]\n",
    "\n",
    "# Split into train and test\n",
    "X_train, X_test, y_train, y_test = train_test_split(X, y, test_size=0.2, random_state=42)\n",
    "\n",
    "# Scaler will only fit on training data so, calculates Mean & STD and stores this on the scaler\n",
    "scaler = StandardScaler()\n",
    "X_train[numerical_cols] = scaler.fit_transform(X_train[numerical_cols])\n",
    "X_test[numerical_cols] = scaler.transform(X_test[numerical_cols]) # Uses scaler that has only seen the traning data -> standardize \n",
    "\n",
    "# Combine transformed training group +  assigned clean, matching row indices\n",
    "df_train = pd.concat([X_train.reset_index(drop=True), y_train.reset_index(drop=True)], axis=1)"
   ]
  },
  {
   "cell_type": "code",
   "execution_count": 6,
   "id": "a73b7382-e8fe-450b-8e78-6f6a44b47fd8",
   "metadata": {},
   "outputs": [
    {
     "name": "stdout",
     "output_type": "stream",
     "text": [
      "\n",
      "Removed 12308 outliers from training data.\n"
     ]
    }
   ],
   "source": [
    "# Removing 'MentHlth' from being an outlier as a single unique value is being treated as an outlier but, is a valid data point\n",
    "numerical_cols2 = ['BMI', 'PhysHlth', 'Age']\n",
    "\n",
    "# Set a z-score threshold: ±1 SD → ~68.3% of data, ±2 SD → ~95.5% of data, ±3 SD → ~99.7% of data\n",
    "threshold = 3    \n",
    "\n",
    "# Calculate absolute z-scores for numerical columns\n",
    "z_scores = np.abs(df_train[numerical_cols2])\n",
    "\n",
    "# Mask: rows where any numerical feature has a z-score >= threshold of 3\n",
    "outlier_mask = (z_scores >= threshold).any(axis=1)\n",
    "\n",
    "# Get the outlier rows\n",
    "outliers = df_train[outlier_mask]\n",
    "\n",
    "# Get the cleaned training data (rows that are NOT outliers)\n",
    "df_train_cleaned = df_train[~outlier_mask].reset_index(drop=True)\n",
    "\n",
    "# Show the outliers\n",
    "# print(\"Outlier rows removed from training data:\")\n",
    "# print(outliers)\n",
    "\n",
    "# Print how many were removed\n",
    "print(f\"\\nRemoved {len(outliers)} outliers from training data.\")"
   ]
  },
  {
   "cell_type": "code",
   "execution_count": 12,
   "id": "5b5a140b-2026-4696-8510-20258b28a50d",
   "metadata": {},
   "outputs": [
    {
     "name": "stdout",
     "output_type": "stream",
     "text": [
      "[{'BMI': 10.529983410659645, 'MentHlth': 0.9166051825683241, 'PhysHlth': -0.4871967214577618, 'Age': -1.6484433977259525}, {'BMI': 10.529983410659645, 'MentHlth': -0.4299017021454753, 'PhysHlth': -0.4871967214577618, 'Age': 1.6269393377059982}, {'BMI': 10.529983410659645, 'MentHlth': 0.10870105174004452, 'PhysHlth': -0.4871967214577618, 'Age': 0.644324517076413}, {'BMI': 10.529983410659645, 'MentHlth': 1.589858624925224, 'PhysHlth': 0.6594755518259351, 'Age': 0.9718627906196081}, {'BMI': 10.529983410659645, 'MentHlth': -0.1606003252027154, 'PhysHlth': -0.4871967214577618, 'Age': 0.644324517076413}]\n"
     ]
    }
   ],
   "source": [
    "# See just the top 5 most extreme BMI cases\n",
    "print(outliers[['BMI', 'MentHlth', 'PhysHlth', 'Age']].sort_values(by='BMI', ascending=False).head(5).to_dict(orient='records'))"
   ]
  },
  {
   "cell_type": "code",
   "execution_count": 13,
   "id": "01a9baaa-7c65-4c7c-a35a-46219e33d89a",
   "metadata": {},
   "outputs": [
    {
     "name": "stdout",
     "output_type": "stream",
     "text": [
      "Original Standardized Training Data:\n",
      "                BMI      MentHlth      PhysHlth           Age\n",
      "count  2.029440e+05  2.029440e+05  2.029440e+05  2.029440e+05\n",
      "mean   2.687503e-16  4.513016e-17 -7.142400e-18 -1.776497e-16\n",
      "std    1.000002e+00  1.000002e+00  1.000002e+00  1.000002e+00\n",
      "min   -2.475946e+00 -4.299017e-01 -4.871967e-01 -2.303520e+00\n",
      "25%   -6.611649e-01 -4.299017e-01 -4.871967e-01 -6.658286e-01\n",
      "50%   -2.074697e-01 -4.299017e-01 -4.871967e-01 -1.075203e-02\n",
      "75%    3.974572e-01 -1.606003e-01 -1.431950e-01  6.443245e-01\n",
      "max    1.052998e+01  3.609619e+00  2.952820e+00  1.626939e+00\n",
      "\n",
      "Cleaned + Re-standardized Training Data:\n",
      "                BMI      MentHlth      PhysHlth           Age\n",
      "count  1.906360e+05  1.906360e+05  1.906360e+05  1.906360e+05\n",
      "mean   6.336278e-18 -5.529334e-17  4.804389e-17 -2.767463e-17\n",
      "std    1.000003e+00  1.000003e+00  1.000003e+00  1.000003e+00\n",
      "min   -2.876142e+00 -4.142922e-01 -4.554221e-01 -2.304848e+00\n",
      "25%   -7.114224e-01 -4.142922e-01 -4.554221e-01 -6.742359e-01\n",
      "50%   -1.702426e-01 -4.142922e-01 -4.554221e-01 -2.199114e-02\n",
      "75%    5.513304e-01 -1.786788e-01 -2.044153e-01  6.302536e-01\n",
      "max    3.618016e+00  5.476041e+00  3.309679e+00  1.608621e+00\n"
     ]
    }
   ],
   "source": [
    "# Refit scaler on cleaned training data\n",
    "scaler = StandardScaler()\n",
    "df_train_cleaned[numerical_cols] = scaler.fit_transform(df_train_cleaned[numerical_cols])\n",
    "\n",
    "# Apply same transformation to test data\n",
    "X_test[numerical_cols] = scaler.transform(X_test[numerical_cols])\n",
    "\n",
    "# Summary of the original standardized training data (before outlier removal)\n",
    "print(\"Original Standardized Training Data:\")\n",
    "print(df_train[numerical_cols].describe())\n",
    "\n",
    "# Summary of the re-standardized, cleaned training data\n",
    "print(\"\\nCleaned + Re-standardized Training Data:\")\n",
    "print(df_train_cleaned[numerical_cols].describe())"
   ]
  },
  {
   "cell_type": "markdown",
   "id": "45112abb-fe74-4b09-aab8-01e43f07d26d",
   "metadata": {},
   "source": [
    "#### Understanding the outliers\n",
    "- Both have a mean ~0 and a std ~1 as expected\n",
    "- max BPI has decreased from 10.5 std to 3.6 std\n",
    "- mental health has increased from 3.6 max std to 5.47 std"
   ]
  },
  {
   "cell_type": "code",
   "execution_count": 20,
   "id": "61379d51-9d8c-4f9d-b1f4-e19643c3ad37",
   "metadata": {},
   "outputs": [
    {
     "name": "stdout",
     "output_type": "stream",
     "text": [
      "Outlier counts by column (only one column per row):\n",
      "MentHlth    10057\n",
      "BMI          2251\n",
      "Name: count, dtype: int64\n"
     ]
    }
   ],
   "source": [
    "# Columns you're checking for outliers\n",
    "cols = ['BMI', 'MentHlth', 'PhysHlth', 'Age']\n",
    "\n",
    "# For each row, find which column has the max value over the threshold\n",
    "threshold = 3\n",
    "outlier_only = outliers[cols].copy()\n",
    "\n",
    "# Mask values <= threshold\n",
    "outlier_only = outlier_only.where(outlier_only > threshold)\n",
    "\n",
    "# Find the column with the maximum value per row (ignoring NaNs)\n",
    "primary_outlier_column = outlier_only.idxmax(axis=1)\n",
    "\n",
    "# Drop rows where all values were below threshold (i.e., no max column)\n",
    "primary_outlier_column = primary_outlier_column.dropna()\n",
    "\n",
    "# Count how often each column was the primary outlier\n",
    "outlier_counts = primary_outlier_column.value_counts()\n",
    "\n",
    "print(\"Outlier counts by column (only one column per row):\")\n",
    "print(outlier_counts)\n"
   ]
  },
  {
   "cell_type": "code",
   "execution_count": 21,
   "id": "a66be2d7-9abb-41a5-aca9-0d6bb89cd3ea",
   "metadata": {},
   "outputs": [
    {
     "data": {
      "text/html": [
       "<div>\n",
       "<style scoped>\n",
       "    .dataframe tbody tr th:only-of-type {\n",
       "        vertical-align: middle;\n",
       "    }\n",
       "\n",
       "    .dataframe tbody tr th {\n",
       "        vertical-align: top;\n",
       "    }\n",
       "\n",
       "    .dataframe thead th {\n",
       "        text-align: right;\n",
       "    }\n",
       "</style>\n",
       "<table border=\"1\" class=\"dataframe\">\n",
       "  <thead>\n",
       "    <tr style=\"text-align: right;\">\n",
       "      <th></th>\n",
       "      <th>BMI</th>\n",
       "      <th>MentHlth</th>\n",
       "      <th>PhysHlth</th>\n",
       "      <th>Age</th>\n",
       "    </tr>\n",
       "  </thead>\n",
       "  <tbody>\n",
       "    <tr>\n",
       "      <th>count</th>\n",
       "      <td>12308.000000</td>\n",
       "      <td>12308.000000</td>\n",
       "      <td>12308.000000</td>\n",
       "      <td>12308.000000</td>\n",
       "    </tr>\n",
       "    <tr>\n",
       "      <th>mean</th>\n",
       "      <td>1.002863</td>\n",
       "      <td>2.991471</td>\n",
       "      <td>1.101198</td>\n",
       "      <td>-0.175559</td>\n",
       "    </tr>\n",
       "    <tr>\n",
       "      <th>std</th>\n",
       "      <td>2.128997</td>\n",
       "      <td>1.379720</td>\n",
       "      <td>1.506134</td>\n",
       "      <td>0.912400</td>\n",
       "    </tr>\n",
       "    <tr>\n",
       "      <th>min</th>\n",
       "      <td>-2.475946</td>\n",
       "      <td>-0.429902</td>\n",
       "      <td>-0.487197</td>\n",
       "      <td>-2.303520</td>\n",
       "    </tr>\n",
       "    <tr>\n",
       "      <th>25%</th>\n",
       "      <td>-0.358701</td>\n",
       "      <td>3.609619</td>\n",
       "      <td>-0.487197</td>\n",
       "      <td>-0.665829</td>\n",
       "    </tr>\n",
       "    <tr>\n",
       "      <th>50%</th>\n",
       "      <td>0.321841</td>\n",
       "      <td>3.609619</td>\n",
       "      <td>0.659476</td>\n",
       "      <td>-0.010752</td>\n",
       "    </tr>\n",
       "    <tr>\n",
       "      <th>75%</th>\n",
       "      <td>1.758543</td>\n",
       "      <td>3.609619</td>\n",
       "      <td>2.952820</td>\n",
       "      <td>0.316786</td>\n",
       "    </tr>\n",
       "    <tr>\n",
       "      <th>max</th>\n",
       "      <td>10.529983</td>\n",
       "      <td>3.609619</td>\n",
       "      <td>2.952820</td>\n",
       "      <td>1.626939</td>\n",
       "    </tr>\n",
       "  </tbody>\n",
       "</table>\n",
       "</div>"
      ],
      "text/plain": [
       "                BMI      MentHlth      PhysHlth           Age\n",
       "count  12308.000000  12308.000000  12308.000000  12308.000000\n",
       "mean       1.002863      2.991471      1.101198     -0.175559\n",
       "std        2.128997      1.379720      1.506134      0.912400\n",
       "min       -2.475946     -0.429902     -0.487197     -2.303520\n",
       "25%       -0.358701      3.609619     -0.487197     -0.665829\n",
       "50%        0.321841      3.609619      0.659476     -0.010752\n",
       "75%        1.758543      3.609619      2.952820      0.316786\n",
       "max       10.529983      3.609619      2.952820      1.626939"
      ]
     },
     "execution_count": 21,
     "metadata": {},
     "output_type": "execute_result"
    }
   ],
   "source": [
    "outliers[numerical_cols].describe()"
   ]
  },
  {
   "cell_type": "markdown",
   "id": "2ac6c208-d78e-4706-85be-4efd00a4b634",
   "metadata": {},
   "source": [
    "#### BMI\n",
    "- BMI std of 1 means The average outlier BMI z-score is already 1 std dev above the (overall) mean\n",
    "- max = 10.53, is way beyond 3 stds from the mean (even though the outier data is not normally distributed)\n",
    "- Extreme high-end outliers driving up the max.\n",
    "#### MentHlth\n",
    "- For MentHlth 75% of the values are all the same number 3.609 which suggests that a single uniquely high value is being captured\n",
    "- Now thinking about your mental health, which includes stress, depression, and problems with emotions, for how many\n",
    "days during the past 30 days was your mental health not good?\n",
    "- 1 - 30 Number of days.\n",
    "- Currently we are excluding this as an outlier, we should keep this in "
   ]
  },
  {
   "cell_type": "code",
   "execution_count": null,
   "id": "1a750092-373a-4eae-8329-c6a22c6c2d12",
   "metadata": {},
   "outputs": [],
   "source": []
  }
 ],
 "metadata": {
  "kernelspec": {
   "display_name": "Python 3 (ipykernel)",
   "language": "python",
   "name": "python3"
  },
  "language_info": {
   "codemirror_mode": {
    "name": "ipython",
    "version": 3
   },
   "file_extension": ".py",
   "mimetype": "text/x-python",
   "name": "python",
   "nbconvert_exporter": "python",
   "pygments_lexer": "ipython3",
   "version": "3.12.7"
  }
 },
 "nbformat": 4,
 "nbformat_minor": 5
}
