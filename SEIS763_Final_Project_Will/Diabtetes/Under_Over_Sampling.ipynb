{
 "cells": [
  {
   "cell_type": "code",
   "execution_count": 1,
   "id": "d44742c7-2f73-4606-a957-4136a5959a31",
   "metadata": {},
   "outputs": [],
   "source": [
    "import pandas as pd\n",
    "import numpy as np\n",
    "import scipy.stats as stats\n",
    "from scipy.stats import zscore\n",
    "from sklearn.preprocessing import StandardScaler\n",
    "from sklearn.multiclass import OneVsRestClassifier\n",
    "from sklearn.linear_model import LogisticRegression, LogisticRegressionCV\n",
    "from sklearn.model_selection import train_test_split\n",
    "from sklearn.metrics import mean_squared_error, accuracy_score, confusion_matrix, classification_report, roc_auc_score, log_loss\n",
    "from imblearn.under_sampling import RandomUnderSampler\n",
    "from imblearn.over_sampling import SMOTE\n",
    "from collections import Counter\n",
    "import matplotlib.pyplot as plt\n",
    "import joblib"
   ]
  },
  {
   "cell_type": "code",
   "execution_count": 2,
   "id": "06393d55-f2d2-4ac2-b671-7c069184bd38",
   "metadata": {},
   "outputs": [
    {
     "name": "stdout",
     "output_type": "stream",
     "text": [
      "Diabetes_012            0\n",
      "HighBP                  0\n",
      "HighChol                0\n",
      "CholCheck               0\n",
      "BMI                     0\n",
      "Smoker                  0\n",
      "Stroke                  0\n",
      "HeartDiseaseorAttack    0\n",
      "PhysActivity            0\n",
      "Fruits                  0\n",
      "Veggies                 0\n",
      "HvyAlcoholConsump       0\n",
      "AnyHealthcare           0\n",
      "NoDocbcCost             0\n",
      "GenHlth                 0\n",
      "MentHlth                0\n",
      "PhysHlth                0\n",
      "DiffWalk                0\n",
      "Sex                     0\n",
      "Age                     0\n",
      "Education               0\n",
      "Income                  0\n",
      "dtype: int64\n"
     ]
    }
   ],
   "source": [
    "original_df = pd.read_csv('Data/diabetes_012_health_indicators_BRFSS2015.csv')\n",
    "# Check missing values\n",
    "print(original_df.isnull().sum())"
   ]
  },
  {
   "cell_type": "code",
   "execution_count": 3,
   "id": "d41a1eed-861a-49c8-ab57-aec4e538591c",
   "metadata": {},
   "outputs": [
    {
     "name": "stdout",
     "output_type": "stream",
     "text": [
      "Distribution for the values of for the target variable\n",
      "\n",
      "Diabetes_012\n",
      "0.0    213703\n",
      "2.0     35346\n",
      "1.0      4631\n",
      "Name: count, dtype: int64\n"
     ]
    }
   ],
   "source": [
    "print('Distribution for the values of for the target variable\\n')\n",
    "print(original_df[\"Diabetes_012\"].value_counts())"
   ]
  },
  {
   "cell_type": "code",
   "execution_count": 4,
   "id": "d983ea43-fead-49e5-888c-d8c6cf2533a8",
   "metadata": {},
   "outputs": [
    {
     "data": {
      "text/plain": [
       "<Axes: ylabel='count'>"
      ]
     },
     "execution_count": 4,
     "metadata": {},
     "output_type": "execute_result"
    },
    {
     "data": {
      "image/png": "[encoded data removed]",
      "text/plain": [
       "<Figure size 640x480 with 1 Axes>"
      ]
     },
     "metadata": {},
     "output_type": "display_data"
    }
   ],
   "source": [
    "original_df[\"Diabetes_012\"].value_counts().plot.pie(autopct='%.2f')"
   ]
  },
  {
   "cell_type": "code",
   "execution_count": 5,
   "id": "cf3c2521-b685-48be-890f-3800aa847a4c",
   "metadata": {},
   "outputs": [
    {
     "data": {
      "text/html": [
       "<div>\n",
       "<style scoped>\n",
       "    .dataframe tbody tr th:only-of-type {\n",
       "        vertical-align: middle;\n",
       "    }\n",
       "\n",
       "    .dataframe tbody tr th {\n",
       "        vertical-align: top;\n",
       "    }\n",
       "\n",
       "    .dataframe thead th {\n",
       "        text-align: right;\n",
       "    }\n",
       "</style>\n",
       "<table border=\"1\" class=\"dataframe\">\n",
       "  <thead>\n",
       "    <tr style=\"text-align: right;\">\n",
       "      <th></th>\n",
       "      <th>HighBP</th>\n",
       "      <th>HighChol</th>\n",
       "      <th>CholCheck</th>\n",
       "      <th>BMI</th>\n",
       "      <th>Smoker</th>\n",
       "      <th>Stroke</th>\n",
       "      <th>HeartDiseaseorAttack</th>\n",
       "      <th>PhysActivity</th>\n",
       "      <th>Fruits</th>\n",
       "      <th>Veggies</th>\n",
       "      <th>...</th>\n",
       "      <th>AnyHealthcare</th>\n",
       "      <th>NoDocbcCost</th>\n",
       "      <th>GenHlth</th>\n",
       "      <th>MentHlth</th>\n",
       "      <th>PhysHlth</th>\n",
       "      <th>DiffWalk</th>\n",
       "      <th>Sex</th>\n",
       "      <th>Age</th>\n",
       "      <th>Education</th>\n",
       "      <th>Income</th>\n",
       "    </tr>\n",
       "  </thead>\n",
       "  <tbody>\n",
       "    <tr>\n",
       "      <th>0</th>\n",
       "      <td>1.0</td>\n",
       "      <td>1.0</td>\n",
       "      <td>1.0</td>\n",
       "      <td>40.0</td>\n",
       "      <td>1.0</td>\n",
       "      <td>0.0</td>\n",
       "      <td>0.0</td>\n",
       "      <td>0.0</td>\n",
       "      <td>0.0</td>\n",
       "      <td>1.0</td>\n",
       "      <td>...</td>\n",
       "      <td>1.0</td>\n",
       "      <td>0.0</td>\n",
       "      <td>5.0</td>\n",
       "      <td>18.0</td>\n",
       "      <td>15.0</td>\n",
       "      <td>1.0</td>\n",
       "      <td>0.0</td>\n",
       "      <td>9.0</td>\n",
       "      <td>4.0</td>\n",
       "      <td>3.0</td>\n",
       "    </tr>\n",
       "  </tbody>\n",
       "</table>\n",
       "<p>1 rows × 21 columns</p>\n",
       "</div>"
      ],
      "text/plain": [
       "   HighBP  HighChol  CholCheck   BMI  Smoker  Stroke  HeartDiseaseorAttack  \\\n",
       "0     1.0       1.0        1.0  40.0     1.0     0.0                   0.0   \n",
       "\n",
       "   PhysActivity  Fruits  Veggies  ...  AnyHealthcare  NoDocbcCost  GenHlth  \\\n",
       "0           0.0     0.0      1.0  ...            1.0          0.0      5.0   \n",
       "\n",
       "   MentHlth  PhysHlth  DiffWalk  Sex  Age  Education  Income  \n",
       "0      18.0      15.0       1.0  0.0  9.0        4.0     3.0  \n",
       "\n",
       "[1 rows x 21 columns]"
      ]
     },
     "execution_count": 5,
     "metadata": {},
     "output_type": "execute_result"
    }
   ],
   "source": [
    "y = original_df.Diabetes_012\n",
    "X = original_df.drop('Diabetes_012', axis=1)\n",
    "X.head(1)"
   ]
  },
  {
   "cell_type": "markdown",
   "id": "b278c2e1-b70d-4264-a1d6-834930db3eca",
   "metadata": {},
   "source": [
    "#### Feature Engineering & Scaling\n",
    "- Turn categorical data into a numerical format that a model can understand.\n",
    "- Scale numeric features to ensures all features are on the same scale."
   ]
  },
  {
   "cell_type": "code",
   "execution_count": 6,
   "id": "9491de0e-c8d8-46e2-b580-e64d08b2ea4f",
   "metadata": {},
   "outputs": [],
   "source": [
    "# Numerical Predictors\n",
    "numerical_cols = ['BMI', 'MentHlth', 'PhysHlth', 'Age']\n",
    "# numerical_cols = list(dict.fromkeys(numerical_cols))  # Remove duplicates just in case\n",
    "\n",
    "# Categorical Predictors\n",
    "categorical_cols = [\n",
    "    'HighBP', 'HighChol', 'CholCheck', 'Smoker', 'Stroke', 'HeartDiseaseorAttack',\n",
    "    'PhysActivity', 'Fruits', 'Veggies', 'HvyAlcoholConsump', 'AnyHealthcare',\n",
    "    'NoDocbcCost', 'GenHlth', 'DiffWalk', 'Sex', 'Education', 'Income'\n",
    "]\n",
    "\n",
    "# One-hot encode categorical features and drop the first category of each\n",
    "# Feature Engineering - Turns categorical data into a numerical format that a model can understand\n",
    "X_cat = pd.get_dummies(X, columns=categorical_cols, drop_first=True)\n",
    "\n",
    "# Extract the numerical features\n",
    "X_num = X[numerical_cols]\n",
    "\n",
    "# Concatenate numerical and encoded categorical features\n",
    "X = pd.concat([X_num, X_cat], axis=1)\n",
    "\n",
    "# Remove any duplicated columns that may result from concat\n",
    "X = X.loc[:, ~X.columns.duplicated()]\n",
    "\n",
    "# Split into train and test\n",
    "X_train, X_test, y_train, y_test = train_test_split(X, y, test_size=0.2, random_state=42)\n",
    "\n",
    "# Scaler will only fit on training data so, calculates Mean & STD and stores this on the scaler\n",
    "scaler = StandardScaler()\n",
    "X_train[numerical_cols] = scaler.fit_transform(X_train[numerical_cols])\n",
    "X_test[numerical_cols] = scaler.transform(X_test[numerical_cols]) # Uses scaler that has only seen the traning data -> standardize \n",
    "\n",
    "# Combine transformed training group +  assigned clean, matching row indices\n",
    "df_train = pd.concat([X_train.reset_index(drop=True), y_train.reset_index(drop=True)], axis=1)"
   ]
  },
  {
   "cell_type": "markdown",
   "id": "0e453f1d-b710-4a3b-96a1-bceb6715fe45",
   "metadata": {},
   "source": [
    "#### Random Undersampling\n",
    "- Resample the all classes to equal amounts based on smallest minority.  This way they are not dominated by the majority class.\n",
    "- randomly removing a bunch of majority class samples.\n",
    "#### Use after standardizing and removing outliers\n",
    "-  If you use raw, unencoded categorical columns, it treats these like numbers and may misinterpret them — or worse, raise an error.\n",
    "-  Feature scaling is also done before undersamling as well.  Using full training set to calculate accurate mean and std to ensures all features are on the same scale.\n",
    "-  Remove outliers 1st as outliers can skew your feature distributions, especially in the majority class."
   ]
  },
  {
   "cell_type": "code",
   "execution_count": 7,
   "id": "45cecd3c-36bd-4a3e-985f-8384dc59f81a",
   "metadata": {},
   "outputs": [
    {
     "name": "stdout",
     "output_type": "stream",
     "text": [
      "Before undersampling: Counter({0.0: 170908, 2.0: 28349, 1.0: 3687})\n",
      "After undersampling: Counter({0.0: 3687, 1.0: 3687, 2.0: 3687})\n"
     ]
    }
   ],
   "source": [
    "# Separate features and target using only the training data\n",
    "X_train_under = df_train.drop('Diabetes_012', axis=1)\n",
    "y_train_under = df_train['Diabetes_012']\n",
    "\n",
    "# from collections import Counter\n",
    "\n",
    "# Check class distribution before\n",
    "print(\"Before undersampling:\", Counter(y_train_under))\n",
    "\n",
    "# Apply undersampling\n",
    "rus = RandomUnderSampler(random_state=42)\n",
    "X_resampled, y_resampled = rus.fit_resample(X_train_under, y_train_under)\n",
    "\n",
    "# Check class distribution after\n",
    "print(\"After undersampling:\", Counter(y_resampled))"
   ]
  },
  {
   "cell_type": "code",
   "execution_count": 8,
   "id": "e1761500-98e7-4079-9b77-4f6b43e05c3b",
   "metadata": {},
   "outputs": [
    {
     "data": {
      "text/plain": [
       "<Axes: ylabel='count'>"
      ]
     },
     "execution_count": 8,
     "metadata": {},
     "output_type": "execute_result"
    },
    {
     "data": {
      "image/png": "[encoded data removed]",
      "text/plain": [
       "<Figure size 640x480 with 1 Axes>"
      ]
     },
     "metadata": {},
     "output_type": "display_data"
    }
   ],
   "source": [
    "y_resampled.value_counts().plot.pie(autopct='%.2f')"
   ]
  },
  {
   "cell_type": "markdown",
   "id": "ddb9aa77-f63e-4914-9a00-17e57e3df46b",
   "metadata": {},
   "source": [
    "#### SMOTE Random oversampling method\n",
    "#### Synthetic Minority Over-sampling Technique\n",
    "- API's for other imbalanced datasets https://imbalanced-learn.org/stable/references/index.html\n",
    "- Create artificial samples of the minorty class/es\n",
    "- Uses K nearest neighbors"
   ]
  },
  {
   "cell_type": "code",
   "execution_count": 9,
   "id": "d5c14942-2c58-4082-8dbb-394568c22cfb",
   "metadata": {},
   "outputs": [
    {
     "name": "stdout",
     "output_type": "stream",
     "text": [
      "Before SMOTE oversampling: Counter({0.0: 170908, 2.0: 28349, 1.0: 3687})\n",
      "After SMOTE oversampling: Counter({0.0: 170908, 2.0: 170908, 1.0: 170908})\n"
     ]
    }
   ],
   "source": [
    "# Separate features and target\n",
    "X_train_over = df_train.drop('Diabetes_012', axis=1)\n",
    "y_train_over = df_train['Diabetes_012']\n",
    "\n",
    "# Check original class distribution\n",
    "print(\"Before SMOTE oversampling:\", Counter(y_train_over))\n",
    "\n",
    "# Apply SMOTE to training set only\n",
    "smote = SMOTE(random_state=42)\n",
    "X_resampled, y_resampled = smote.fit_resample(X_train_over, y_train_over)\n",
    "\n",
    "# Check new class distribution\n",
    "print(\"After SMOTE oversampling:\", Counter(y_resampled))"
   ]
  },
  {
   "cell_type": "code",
   "execution_count": 10,
   "id": "f26e4275-2365-4dd9-ad49-fd5475882763",
   "metadata": {},
   "outputs": [
    {
     "data": {
      "image/png": "[encoded data removed]",
      "text/plain": [
       "<Figure size 640x480 with 1 Axes>"
      ]
     },
     "metadata": {},
     "output_type": "display_data"
    }
   ],
   "source": [
    "y_resampled.value_counts().plot.pie(\n",
    "    labels=y_resampled.value_counts().index,\n",
    "    autopct=lambda p: f'{int(p * sum(y_resampled.value_counts()) / 100)}',\n",
    "    startangle=90,\n",
    "    explode=[0.01]*len(y_resampled.value_counts()),\n",
    "    shadow=True\n",
    ")\n",
    "plt.ylabel(\"\")  # Optional: Remove 'y_resampled' label on side\n",
    "plt.title(\"Class Distribution (Counts)\")\n",
    "plt.show()"
   ]
  },
  {
   "cell_type": "markdown",
   "id": "96bb91fa-47c5-4f2f-ac9b-8a3f670e72e5",
   "metadata": {},
   "source": [
    "#### TomekLinks\n",
    "- Useful when there's likely class overlap or poor separation (often the case in real-world health data).\n",
    "- Instead of aggressively undersampling, it selectively removes the closest conflicting pairs (cleaning the decision boundary).\n",
    "- Retains more useful majority class information than random undersampling.\n",
    "- First, use TomekLinks to clean the borderline noise.  Then apply RandomUnderSampler to balance the classes.\n",
    "- TomekLinks can accidentally remove useful support vectors, so you want to be careful using it with SVM"
   ]
  },
  {
   "cell_type": "code",
   "execution_count": 14,
   "id": "c84b926b-4cb0-4922-aba3-323c2be6dedf",
   "metadata": {},
   "outputs": [
    {
     "name": "stdout",
     "output_type": "stream",
     "text": [
      "Before TomekLinks Under sampling: Counter({0.0: 170908, 2.0: 28349, 1.0: 3687})\n",
      "After TomekLinks Under sampling: Counter({0.0: 162341, 2.0: 20487, 1.0: 3687})\n",
      "After undersampling: Counter({0.0: 3687, 1.0: 3687, 2.0: 3687})\n"
     ]
    }
   ],
   "source": [
    "from imblearn.under_sampling import TomekLinks, RandomUnderSampler\n",
    "\n",
    "tl = TomekLinks()\n",
    "\n",
    "# Get X and y values\n",
    "X_train_TomekLinks = df_train.drop('Diabetes_012', axis=1)\n",
    "y_train_TomekLinks = df_train['Diabetes_012']\n",
    "\n",
    "# Check original class distribution\n",
    "print(\"Before TomekLinks Under sampling:\", Counter(y_train_TomekLinks))\n",
    "\n",
    "X_clean, y_clean = tl.fit_resample(X_train_TomekLinks, y_train_TomekLinks)\n",
    "\n",
    "# Check new class distribution\n",
    "print(\"After TomekLinks Under sampling:\", Counter(y_clean))\n",
    "\n",
    "# Step 2: Undersample majority class\n",
    "rus = RandomUnderSampler(sampling_strategy='not minority', random_state=42)\n",
    "X_under, y_under = rus.fit_resample(X_train_TomekLinks, y_train_TomekLinks)\n",
    "\n",
    "# Check class distribution after\n",
    "print(\"After Under sampling:\", Counter(y_under))"
   ]
  },
  {
   "cell_type": "markdown",
   "id": "76dc5710-be3a-4a2c-afb5-595d8bbab3ac",
   "metadata": {},
   "source": [
    "#### Edited Nearest Neighbours (ENN)\n",
    "- ENN removes mislabeled outliers, not borderline points that genuinely reflect the class boundary.\n",
    "- It’s more selective and data-driven than RandomUnderSampler.\n",
    "- It avoids over-simplifying your dataset while still reducing noise."
   ]
  },
  {
   "cell_type": "code",
   "execution_count": 15,
   "id": "13d4d773-c888-4731-86f8-abc630d519ec",
   "metadata": {},
   "outputs": [
    {
     "name": "stdout",
     "output_type": "stream",
     "text": [
      "Before ENN Under sampling: Counter({0.0: 170908, 2.0: 28349, 1.0: 3687})\n",
      "After Under ENN sampling: Counter({0.0: 121330, 1.0: 3687, 2.0: 1471})\n"
     ]
    }
   ],
   "source": [
    "from imblearn.under_sampling import EditedNearestNeighbours\n",
    "\n",
    "X_train_enn = df_train.drop('Diabetes_012', axis=1)\n",
    "y_train_enn = df_train['Diabetes_012']\n",
    "\n",
    "# Check original class distribution\n",
    "print(\"Before ENN Under sampling:\", Counter(y_train_enn))\n",
    "\n",
    "enn = EditedNearestNeighbours(n_neighbors=3)\n",
    "X_enn, y_enn = enn.fit_resample(X_train_enn, y_train_enn)\n",
    "\n",
    "# Check class distribution after\n",
    "print(\"After Under ENN sampling:\", Counter(y_enn))"
   ]
  },
  {
   "cell_type": "code",
   "execution_count": null,
   "id": "173d5335-828f-47b2-8f32-6e9cc56a1353",
   "metadata": {},
   "outputs": [],
   "source": []
  }
 ],
 "metadata": {
  "kernelspec": {
   "display_name": "Python 3 (ipykernel)",
   "language": "python",
   "name": "python3"
  },
  "language_info": {
   "codemirror_mode": {
    "name": "ipython",
    "version": 3
   },
   "file_extension": ".py",
   "mimetype": "text/x-python",
   "name": "python",
   "nbconvert_exporter": "python",
   "pygments_lexer": "ipython3",
   "version": "3.12.7"
  }
 },
 "nbformat": 4,
 "nbformat_minor": 5
}
