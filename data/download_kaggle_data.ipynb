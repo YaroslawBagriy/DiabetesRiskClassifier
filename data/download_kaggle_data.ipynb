{
 "cells": [
  {
   "cell_type": "code",
   "execution_count": null,
   "id": "f41c4308-f089-4968-9184-68b2dd31abb6",
   "metadata": {},
   "outputs": [],
   "source": [
    "# download_kaggle_data.py\n",
    "import os\n",
    "from kaggle.api.kaggle_api_extended import KaggleApi\n",
    "\n",
    "# Dataset info\n",
    "dataset_slug = \"alexteboul/diabetes-health-indicators-dataset\"\n",
    "download_dir = \"data/\"\n",
    "\n",
    "# Make sure directory exists\n",
    "os.makedirs(download_dir, exist_ok=True)\n",
    "\n",
    "# Authenticate and download\n",
    "api = KaggleApi()\n",
    "api.authenticate()\n",
    "\n",
    "print(f\"📥 Downloading '{dataset_slug}' into '{download_dir}'...\")\n",
    "api.dataset_download_files(dataset_slug, path=download_dir, unzip=True)\n",
    "print(\"✅ Download complete and unzipped!\")"
   ]
  }
 ],
 "metadata": {
  "kernelspec": {
   "display_name": "Python 3 (ipykernel)",
   "language": "python",
   "name": "python3"
  },
  "language_info": {
   "codemirror_mode": {
    "name": "ipython",
    "version": 3
   },
   "file_extension": ".py",
   "mimetype": "text/x-python",
   "name": "python",
   "nbconvert_exporter": "python",
   "pygments_lexer": "ipython3",
   "version": "3.9.6"
  }
 },
 "nbformat": 4,
 "nbformat_minor": 5
}
